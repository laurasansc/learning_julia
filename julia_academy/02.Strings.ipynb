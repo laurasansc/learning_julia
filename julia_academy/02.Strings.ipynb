{
  "cells": [
    {
      "cell_type": "markdown",
      "source": [
        "# Strings\n",
        "\n",
        "Topics:\n",
        "1. How to get a string\n",
        "2. String interpolation\n",
        "3. String concatenation"
      ],
      "metadata": {}
    },
    {
      "cell_type": "markdown",
      "source": [
        "## How to get a string\n",
        "\n",
        "Enclose your characters in \" \" or \"\"\" \"\"\"!"
      ],
      "metadata": {}
    },
    {
      "cell_type": "code",
      "source": [
        "s1 = \"I am a string.\""
      ],
      "outputs": [
        {
          "output_type": "execute_result",
          "execution_count": 9,
          "data": {
            "text/plain": "\"I am a string.\""
          },
          "metadata": {}
        }
      ],
      "execution_count": 9,
      "metadata": {
        "execution": {
          "iopub.status.busy": "2020-07-21T16:09:28.287Z",
          "iopub.execute_input": "2020-07-21T16:09:28.309Z",
          "iopub.status.idle": "2020-07-21T16:09:28.340Z"
        }
      }
    },
    {
      "cell_type": "code",
      "source": [
        "println(s1)"
      ],
      "outputs": [
        {
          "output_type": "stream",
          "name": "stdout",
          "text": [
            "I am a string.\n"
          ]
        }
      ],
      "execution_count": 10,
      "metadata": {
        "collapsed": true,
        "jupyter": {
          "source_hidden": false,
          "outputs_hidden": false
        },
        "nteract": {
          "transient": {
            "deleting": false
          }
        },
        "execution": {
          "iopub.status.busy": "2020-07-21T16:09:34.045Z",
          "iopub.execute_input": "2020-07-21T16:09:34.056Z",
          "iopub.status.idle": "2020-07-21T16:09:34.086Z"
        }
      }
    },
    {
      "cell_type": "code",
      "source": [
        "s2 = \"\"\"I am also a string. \"\"\""
      ],
      "outputs": [
        {
          "output_type": "execute_result",
          "execution_count": 11,
          "data": {
            "text/plain": "\"I am also a string. \""
          },
          "metadata": {}
        }
      ],
      "execution_count": 11,
      "metadata": {
        "execution": {
          "iopub.status.busy": "2020-07-21T16:09:36.830Z",
          "iopub.execute_input": "2020-07-21T16:09:36.842Z",
          "iopub.status.idle": "2020-07-21T16:09:36.872Z"
        }
      }
    },
    {
      "cell_type": "markdown",
      "source": [
        "There are a couple functional differences between strings enclosed in single and triple quotes. <br>\n",
        "One difference is that, in the latter case, you can use quotation marks within your string."
      ],
      "metadata": {}
    },
    {
      "cell_type": "code",
      "source": [
        "\"Here, we get an \"error\" because it's ambiguous where this string ends \""
      ],
      "outputs": [
        {
          "output_type": "error",
          "ename": "LoadError",
          "evalue": "syntax: cannot juxtapose string literal",
          "traceback": [
            "syntax: cannot juxtapose string literal",
            ""
          ]
        }
      ],
      "execution_count": 12,
      "metadata": {
        "execution": {
          "iopub.status.busy": "2020-07-21T16:10:04.610Z",
          "iopub.execute_input": "2020-07-21T16:10:04.644Z",
          "iopub.status.idle": "2020-07-21T16:10:05.430Z"
        }
      }
    },
    {
      "cell_type": "code",
      "source": [
        "\"\"\"Look, Mom, no \"errors\"!!! \"\"\""
      ],
      "outputs": [
        {
          "output_type": "execute_result",
          "execution_count": 13,
          "data": {
            "text/plain": "\"Look, Mom, no \\\"errors\\\"!!! \""
          },
          "metadata": {}
        }
      ],
      "execution_count": 13,
      "metadata": {
        "execution": {
          "iopub.status.busy": "2020-07-21T16:10:07.797Z",
          "iopub.execute_input": "2020-07-21T16:10:07.816Z",
          "iopub.status.idle": "2020-07-21T16:10:07.858Z"
        }
      }
    },
    {
      "cell_type": "markdown",
      "source": [
        "Note that ' ' define a character, but NOT a string!"
      ],
      "metadata": {}
    },
    {
      "cell_type": "code",
      "source": [
        "typeof('a')"
      ],
      "outputs": [
        {
          "output_type": "execute_result",
          "execution_count": 14,
          "data": {
            "text/plain": "Char"
          },
          "metadata": {}
        }
      ],
      "execution_count": 14,
      "metadata": {
        "execution": {
          "iopub.status.busy": "2020-07-21T16:10:35.694Z",
          "iopub.execute_input": "2020-07-21T16:10:35.716Z",
          "iopub.status.idle": "2020-07-21T16:10:36.264Z"
        }
      }
    },
    {
      "cell_type": "code",
      "source": [
        "'We will get an error here'"
      ],
      "outputs": [
        {
          "output_type": "error",
          "ename": "LoadError",
          "evalue": "syntax: invalid character literal",
          "traceback": [
            "syntax: invalid character literal",
            ""
          ]
        }
      ],
      "execution_count": 15,
      "metadata": {
        "execution": {
          "iopub.status.busy": "2020-07-21T16:10:38.682Z",
          "iopub.execute_input": "2020-07-21T16:10:38.713Z",
          "iopub.status.idle": "2020-07-21T16:10:38.750Z"
        }
      }
    },
    {
      "cell_type": "markdown",
      "source": [
        "## String interpolation\n",
        "\n",
        "We can use the $ sign to insert existing variables into a string and to evaluate expressions within a string. <br>\n",
        "Below is an example that contains some highly sensitive personal information."
      ],
      "metadata": {}
    },
    {
      "cell_type": "code",
      "source": [
        "name = \"Jane\"\n",
        "num_fingers = 10\n",
        "num_toes = 10"
      ],
      "outputs": [
        {
          "output_type": "execute_result",
          "execution_count": 16,
          "data": {
            "text/plain": "10"
          },
          "metadata": {}
        }
      ],
      "execution_count": 16,
      "metadata": {
        "execution": {
          "iopub.status.busy": "2020-07-21T16:10:47.688Z",
          "iopub.execute_input": "2020-07-21T16:10:47.714Z",
          "iopub.status.idle": "2020-07-21T16:10:48.082Z"
        }
      }
    },
    {
      "cell_type": "code",
      "source": [
        "println(\"Hello, my name is $name.\")\n",
        "println(\"I have $num_fingers fingers and $num_toes toes.\")\n",
        " println(\"That is $(num_fingers + num_toes) digits in all!!\")\n",
        "# ## String concatenation"
      ],
      "outputs": [
        {
          "output_type": "stream",
          "name": "stdout",
          "text": [
            "Hello, my name is Jane.\n",
            "I have 10 fingers and 10 toes.\n",
            "That is 20 digits in all!!\n"
          ]
        }
      ],
      "execution_count": 17,
      "metadata": {
        "execution": {
          "iopub.status.busy": "2020-07-21T16:10:54.770Z",
          "iopub.execute_input": "2020-07-21T16:10:54.796Z",
          "iopub.status.idle": "2020-07-21T16:10:54.964Z"
        }
      }
    },
    {
      "cell_type": "code",
      "source": [
        "# Below are three ways we can concatenate strings! <br><br>\n",
        "# The first way is to use the `string()` function. <br>\n",
        "# `string()` converts non-string inputs to strings.\n",
        "s3 = \"How many cats \";\n",
        "s4 = \"is too many cats?\";\n",
        "😺 = 10"
      ],
      "outputs": [
        {
          "output_type": "execute_result",
          "execution_count": 18,
          "data": {
            "text/plain": "10"
          },
          "metadata": {}
        }
      ],
      "execution_count": 18,
      "metadata": {
        "execution": {
          "iopub.status.busy": "2020-07-21T16:11:35.330Z",
          "iopub.execute_input": "2020-07-21T16:11:35.350Z",
          "iopub.status.idle": "2020-07-21T16:11:35.386Z"
        }
      }
    },
    {
      "cell_type": "code",
      "source": [
        "string(s3, s4)"
      ],
      "outputs": [
        {
          "output_type": "execute_result",
          "execution_count": 19,
          "data": {
            "text/plain": "\"How many cats is too many cats?\""
          },
          "metadata": {}
        }
      ],
      "execution_count": 19,
      "metadata": {
        "execution": {
          "iopub.status.busy": "2020-07-21T16:11:38.444Z",
          "iopub.execute_input": "2020-07-21T16:11:38.458Z",
          "iopub.status.idle": "2020-07-21T16:11:38.485Z"
        }
      }
    },
    {
      "cell_type": "code",
      "source": [
        "string(\"I don't know, but \", 😺, \" is too few.\")"
      ],
      "outputs": [
        {
          "output_type": "execute_result",
          "execution_count": 20,
          "data": {
            "text/plain": "\"I don't know, but 10 is too few.\""
          },
          "metadata": {}
        }
      ],
      "execution_count": 20,
      "metadata": {
        "execution": {
          "iopub.status.busy": "2020-07-21T16:11:44.914Z",
          "iopub.execute_input": "2020-07-21T16:11:44.932Z",
          "iopub.status.idle": "2020-07-21T16:11:44.962Z"
        }
      }
    },
    {
      "cell_type": "markdown",
      "source": [
        "We can also use `*` for concatenation!"
      ],
      "metadata": {}
    },
    {
      "cell_type": "code",
      "source": [
        "s3*s4"
      ],
      "outputs": [
        {
          "output_type": "execute_result",
          "execution_count": 21,
          "data": {
            "text/plain": "\"How many cats is too many cats?\""
          },
          "metadata": {}
        }
      ],
      "execution_count": 21,
      "metadata": {
        "execution": {
          "iopub.status.busy": "2020-07-21T16:12:04.776Z",
          "iopub.execute_input": "2020-07-21T16:12:04.793Z",
          "iopub.status.idle": "2020-07-21T16:12:04.827Z"
        }
      }
    },
    {
      "cell_type": "markdown",
      "source": [
        "### Exercises\n",
        "\n",
        "#### 2.1\n",
        "Create a string that says \"hi\" 1000 times, first with `repeat` and then with the exponentiation operator, which can call `*` under the hood. Assign it the variable `hi` below."
      ],
      "metadata": {}
    },
    {
      "cell_type": "code",
      "source": [
        "single_hi = \"hi\"\n",
        "hi = single_hi^(1000)"
      ],
      "outputs": [
        {
          "output_type": "execute_result",
          "execution_count": 25,
          "data": {
            "text/plain": "\"hihihihihihihihihihihihihihihihihihihihihihihihihihihihihihihihihihihihihihihihihihihihihihihihihihihihihihihihihihihihihihihihihihihihihihihihihihihihihihihihihihihihihihihihihihihihihihihihihihihihihihihihihihihihihihihihihihihihihihihihihihihihihihihihihihihihihihihihihihihihihihihihihihihihihihihihihihihihihihihihihihihihihihihihihihihihihihihihihihihihihihihihihihihihihihihihihihihihihihihihihihihihihihihihihihihihihihihihihihihihihihihihihihihihihihihihihihihihihihihihihihihihihihihihihihihihihihihihihihihihihihihihihihihihihihihihihihihihihihihihihihihihihihihihihihihihihihihihihihihihihihihihihihihihihihihihihihihihihihihihihihihihihihihihihihihihihihihihihihihihihihihihihihihihihihihihihihihihihihihihihihihihihihihihihihihihihihihihihihihihihihihihihihihihihihihihihihihihihihihihihihihihihihihihihihihihihihihihihihihihihihihihihihihihihihihihihihihihihihihihihihihihihihihihihihihihihihihihihihihihihihihihihihihihihihihihihihihihihihihihihihihihihihihihihihihihihihihihihihihihihihihihihihihihihihihihihihihihihihihihihihihihihihihihihihihihihihihihihihihihihihihihihihihihihihihihihihihihihihihihihihihihihihihihihihihihihihihihihihihihihihihihihihihihihihihihihihihihihihihihihihihihihihihihihihihihihihihihihihihihihihihihihihihihihihihihihihihihihihihihihihihihihihihihihihihihihihihihihihihihihihihihihihihihihihihihihihihihihihihihihihihihihihihihihihihihihihihihihihihihihihihihihihihihihihihihihihihihihihihihihihihihihihihihihihihihihihihihihihihihihihihihihihihihihihihihihihihihihihihihihihihihihihihihihihihihihihihihihihihihihihihihihihihihihihihihihihihihihihihihihihihihihihihihihihihihihihihihihihihihihihihihihihihihihihihihihihihihihihihihihihihihihihihihihihihihihihihihihihihihihihihihihihihihihihihihihihihihihihihihihihihihihihihihihihihihihihihihihihihihihihihihihihihihihihihihihihihihihihihihihihihihihihihihihihihihihihihihihihihihihihihihihihihihihihihihihihihihihihihihihihihihihihihihihihihihihihihihihihihihihihihihihihihihihihihihihihihihihihihihi\""
          },
          "metadata": {}
        }
      ],
      "execution_count": 25,
      "metadata": {
        "collapsed": true,
        "jupyter": {
          "source_hidden": false,
          "outputs_hidden": false
        },
        "nteract": {
          "transient": {
            "deleting": false
          }
        },
        "execution": {
          "iopub.status.busy": "2020-07-21T16:18:43.359Z",
          "iopub.execute_input": "2020-07-21T16:18:43.370Z",
          "iopub.status.idle": "2020-07-21T16:18:43.399Z"
        }
      }
    },
    {
      "cell_type": "markdown",
      "source": [
        "@assert hi == \"hihihihihihihihihihihihihihihihihihihihihihihihihihihihihihihihihihihihihihihihihihihihihihihihihihihihihihihihihihihihihihihihihihihihihihihihihihihihihihihihihihihihihihihihihihihihihihihihihihihihihihihihihihihihihihihihihihihihihihihihihihihihihihihihihihihihihihihihihihihihihihihihihihihihihihihihihihihihihihihihihihihihihihihihihihihihihihihihihihihihihihihihihihihihihihihihihihihihihihihihihihihihihihihihihihihihihihihihihihihihihihihihihihihihihihihihihihihihihihihihihihihihihihihihihihihihihihihihihihihihihihihihihihihihihihihihihihihihihihihihihihihihihihihihihihihihihihihihihihihihihihihihihihihihihihihihihihihihihihihihihihihihihihihihihihihihihihihihihihihihihihihihihihihihihihihihihihihihihihihihihihihihihihihihihihihihihihihihihihihihihihihihihihihihihihihihihihihihihihihihihihihihihihihihihihihihihihihihihihihihihihihihihihihihihihihihihihihihihihihihihihihihihihihihihihihihihihihihihihihihihihihihihihihihihihihihihihihihihihihihihihihihihihihihihihihihihihihihihihihihihihihihihihihihihihihihihihihihihihihihihihihihihihihihihihihihihihihihihihihihihihihihihihihihihihihihihihihihihihihihihihihihihihihihihihihihihihihihihihihihihihihihihihihihihihihihihihihihihihihihihihihihihihihihihihihihihihihihihihihihihihihihihihihihihihihihihihihihihihihihihihihihihihihihihihihihihihihihihihihihihihihihihihihihihihihihihihihihihihihihihihihihihihihihihihihihihihihihihihihihihihihihihihihihihihihihihihihihihihihihihihihihihihihihihihihihihihihihihihihihihihihihihihihihihihihihihihihihihihihihihihihihihihihihihihihihihihihihihihihihihihihihihihihihihihihihihihihihihihihihihihihihihihihihihihihihihihihihihihihihihihihihihihihihihihihihihihihihihihihihihihihihihihihihihihihihihihihihihihihihihihihihihihihihihihihihihihihihihihihihihihihihihihihihihihihihihihihihihihihihihihihihihihihihihihihihihihihihihihihihihihihihihihihihihihihihihihihihihihihihihihihihihihihihihihihihihihihihihihihihihihihihihihihihihihihihihihihihihihihihihihihihihihihihihihihihihihihihihihihihi\""
      ],
      "metadata": {
        "nteract": {
          "transient": {
            "deleting": false
          }
        }
      }
    },
    {
      "cell_type": "markdown",
      "source": [
        "#### 2.2\n",
        "Declare two variables\n",
        "\n",
        "```julia\n",
        "a = 3\n",
        "b = 4\n",
        "```\n",
        "and use them to create two strings:\n",
        "```julia\n",
        "\"3 + 4\"\n",
        "\"7\"\n",
        "```\n",
        "and store the results in `c` and `d` respectively"
      ],
      "metadata": {}
    },
    {
      "cell_type": "code",
      "source": [
        "@assert c == \"3+4\"\n",
        "@assert d == \"7\""
      ],
      "outputs": [],
      "execution_count": null,
      "metadata": {}
    }
  ],
  "metadata": {
    "language_info": {
      "file_extension": ".jl",
      "name": "julia",
      "mimetype": "application/julia",
      "version": "1.4.1"
    },
    "kernelspec": {
      "name": "julia-1.0",
      "display_name": "Julia 1.0.3",
      "language": "julia"
    },
    "nteract": {
      "version": "0.24.0"
    }
  },
  "nbformat": 4,
  "nbformat_minor": 3
}