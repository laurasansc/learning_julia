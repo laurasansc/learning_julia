{
 "cells": [
  {
   "cell_type": "markdown",
   "metadata": {},
   "source": [
    "## Exercise 11\n",
    "### Useful Functions and Methods"
   ]
  },
  {
   "cell_type": "markdown",
   "metadata": {},
   "source": [
    "**1. During your research in ion channels you stumble upon the SwissProt entry (CIQ3_HUMAN) in appendix 1. You notice in the feature table (FT) that several variants and mutations of this gene exists. You want to take a closer look at this and decide that the first step is to extract the original amino acid sequence and all variations (full sequence with the appropiate amino acid changed) hereoff and put the result in a fasta file. Do not consider combinations. Since you probably are going to do this on a lot of SwissProt entries, you decide to make a program in python.** \n",
    "\n",
    "    a) Describe which keywords/patterns you will be looking for when parsing the file searching for the variants/mutations and the sequence.\n",
    "    b) Describe a method, perhaps using pseudo code, to extract the sequence and variations/mutants and print all the different full sequences in fasta. \n",
    "    c) Implement your method in python.\n",
    "    d) What kind of error checking could/should you include in your program ? Here you should name every check, which is relevant to the task, not every check it is possible to make.\n",
    "    e) In what way could you generalize or extend the program ?"
   ]
  },
  {
   "cell_type": "code",
   "execution_count": null,
   "metadata": {},
   "outputs": [],
   "source": [
    "exit()"
   ]
  },
  {
   "cell_type": "markdown",
   "metadata": {},
   "source": [
    "**2. You have earlier in your career made a splendid program, that calculate various scores based on amino acid sequence features. The output from your program can be seen in appendix 3, and consist of an accession number followed by 6 numbers between 0 and 1 per line (tab separated). You want to find the accession numbers with the highest and lowest average scores (average of the 6 numbers). However, you want to exclude any genes on your negative list from your calculations. These genes are listed as SwissProt IDs in appendix 4. Since GenBank accession numbers and SwissProt IDs are not identical, you need to translate between them in order to solve your problem. Fortunately you have a file, that does just that, see appendix 5, where the first item on the line is a SwissProt ID, second item is irrelevant, and third is the corresponding GenBank accession number.**\n",
    "\n",
    "    a) Describe a method, perhaps using pseudo code, to find the data.\n",
    "    b) Implement your method in python.\n",
    "    c) Have you made any assumptions about the data in your algoritm ? Which ? Why ? Are they reasonable assumptions (explain) ? Could/should you do away with them (by changing the code) ?\n",
    "    d) Usually, when you have this kind of problem, you want the highest 10 and lowest 10 average scores, not just the top and bottom average score. How would you solve this problem ? Will it change any assumptions i c) ?"
   ]
  },
  {
   "cell_type": "code",
   "execution_count": null,
   "metadata": {},
   "outputs": [],
   "source": []
  }
 ],
 "metadata": {
  "kernelspec": {
   "display_name": "Julia 1.5.0",
   "language": "julia",
   "name": "julia-1.5"
  },
  "language_info": {
   "file_extension": ".jl",
   "mimetype": "application/julia",
   "name": "julia",
   "version": "1.5.0"
  }
 },
 "nbformat": 4,
 "nbformat_minor": 4
}
