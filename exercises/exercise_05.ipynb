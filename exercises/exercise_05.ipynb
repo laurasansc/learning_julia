{
 "cells": [
  {
   "cell_type": "markdown",
   "metadata": {},
   "source": [
    "## EXERCISES 5\n",
    "### Lists and sequences"
   ]
  },
  {
   "cell_type": "markdown",
   "metadata": {},
   "source": [
    "**1. Make a program that ask for words and saves them in a file called words.txt (one word per line) until you write STOP.**"
   ]
  },
  {
   "cell_type": "code",
   "execution_count": 3,
   "metadata": {},
   "outputs": [
    {
     "name": "stdout",
     "output_type": "stream",
     "text": [
      "Enter a word or STOP\n",
      "stdin> ABC\n",
      "Enter a word or STOP\n",
      "stdin> DOG\n",
      "Enter a word or STOP\n",
      "stdin> CAT\n",
      "Enter a word or STOP\n",
      "stdin> ZEBRA\n",
      "Enter a word or STOP\n",
      "stdin> SNAKE\n",
      "Enter a word or STOP\n",
      "stdin> FISH\n",
      "Enter a word or STOP\n",
      "stdin> STOP\n"
     ]
    }
   ],
   "source": [
    "println(\"Enter a word or STOP\")\n",
    "stdin = readline()\n",
    "\n",
    "output = open(\"words.txt\", \"w\")\n",
    "while uppercase(stdin) != \"STOP\"\n",
    "    write(output, stdin,\"\\n\")\n",
    "    println(\"Enter a word or STOP\")\n",
    "    stdin = readline()\n",
    "end\n",
    "close(output)"
   ]
  },
  {
   "cell_type": "markdown",
   "metadata": {},
   "source": [
    "**2. Make a program that reads all the words in words.txt in an list. First the words must be sorted alphabetically, then the list should be reversed (the first line shall be the last and vice versa), finally the resulting list should be written back in words.txt.**\n"
   ]
  },
  {
   "cell_type": "code",
   "execution_count": 6,
   "metadata": {},
   "outputs": [],
   "source": [
    "open(\"/Users/laurasansc/github/learning_julia/exercises/words.txt\") do file\n",
    "    words = readlines(file)\n",
    "    sorted = sort(words, rev=true)\n",
    "\n",
    "    output = open(\"words.txt\", \"w\")\n",
    "    for word in sorted\n",
    "        write(output, word ,\"\\n\")\n",
    "    end\n",
    "    close(output)\n",
    "end"
   ]
  },
  {
   "cell_type": "markdown",
   "metadata": {},
   "source": [
    "**3. In the file ex5.acc there are 6461 unique GenBank accession numbers (taken from HU6800 DNA array chip). An inexperienced bioinformatician unfortunately fouled up the list, so many of the accession numbers appears more than once. It is your job to clean the list, so all accession numbers only appear once, and in alphabetical order. Save the new list in clean.acc. Hint: After sorting a list, duplicates are \"next\" to each other, thereby making them easy to find and eliminate. You are NOT to use the pop method in this exercise. Make instead a new list with the unique elements.**"
   ]
  },
  {
   "cell_type": "code",
   "execution_count": 14,
   "metadata": {},
   "outputs": [],
   "source": [
    "open(\"/Users/laurasansc/github/learning_julia/files/ex5.acc\") do file\n",
    "    acc_n = readlines(file)\n",
    "    \n",
    "    sorted = sort(acc_n, rev=true)\n",
    "    ac_old = \"\"\n",
    "    count = 0\n",
    "    output = open(\"clean.acc\", \"w\")\n",
    "    for ac in sorted \n",
    "        if ac != ac_old\n",
    "            write(output, ac,\"\\n\")\n",
    "            count += 1\n",
    "        end\n",
    "        ac_old = ac   \n",
    "    end\n",
    "    close(output)\n",
    "end\n",
    "\n"
   ]
  },
  {
   "cell_type": "markdown",
   "metadata": {},
   "source": [
    "**4. Improve/change the previous exercise by using the pop method to eliminate duplicates. HINT: Keep one list and pop duplicates out of it instead of appending them into a new list.**\n"
   ]
  },
  {
   "cell_type": "code",
   "execution_count": 15,
   "metadata": {},
   "outputs": [],
   "source": [
    "open(\"/Users/laurasansc/github/learning_julia/files/ex5.acc\") do file\n",
    "    acc_n = readlines(file)\n",
    "    acc_unique = unique(acc_n)\n",
    "    \n",
    "    output = open(\"clean.acc\", \"w\")\n",
    "    for ac in acc_unique\n",
    "        write(output, ac,\"\\n\")\n",
    "    end\n",
    "    close(output)\n",
    "end"
   ]
  },
  {
   "cell_type": "markdown",
   "metadata": {},
   "source": [
    "**5. Searching for accession numbers. Make a program that first reads your file clean.acc, and then asks for accession numbers and checks if they are in the list. If in the list the program should tell you, but it should also tell you if it is not in the list. The program should continue to ask until you write STOP. The search method you should employ is linear search; this is simply searching the list from one end to the other one accession number at a time. Linear search is always used when you don't know where the element you are searching for is placed in the list. In this exercise you can not use the in operator.**"
   ]
  },
  {
   "cell_type": "code",
   "execution_count": 2,
   "metadata": {},
   "outputs": [
    {
     "name": "stdout",
     "output_type": "stream",
     "text": [
      "Enter an accession number \n",
      "stdin> eff\n",
      "Element not found.\n",
      "stdin> M62831\n",
      "Found your accession number: M62831\n",
      "stdin> efjn\n",
      "Element not found.\n",
      "stdin> M62831\n",
      "Found your accession number: M62831\n",
      "stdin> stop\n"
     ]
    }
   ],
   "source": [
    "open(\"/Users/laurasansc/github/learning_julia/exercises/clean.acc\") do file\n",
    "    println(\"Enter an accession number \")\n",
    "    stdin = uppercase(readline())\n",
    "    acc_n = readlines(file)\n",
    "    while stdin != \"STOP\" \n",
    "        if (length( findall( x -> x == stdin, acc_n )) == 0) \n",
    "            println(\"Element not found.\") \n",
    "        else\n",
    "            println(\"Found your accession number: $stdin\")   \n",
    "        end\n",
    "        stdin = uppercase(readline())\n",
    "    end\n",
    "end"
   ]
  },
  {
   "cell_type": "markdown",
   "metadata": {},
   "source": [
    "\n",
    "**6. After having looked at the list in clean.acc, you discover that the accession numbers are sorted. This means that you can use the much more powerful binary search method. Repeat the previous exercise, but this time use binary search. See what Wikipedia has to say about binary search.**"
   ]
  },
  {
   "cell_type": "code",
   "execution_count": 1,
   "metadata": {},
   "outputs": [
    {
     "name": "stdout",
     "output_type": "stream",
     "text": [
      "Enter an accession number \n",
      "stdin> TUTUT\n",
      "This accession number, TUTUT, was not found. Sorry.\n",
      "Enter an accession number \n",
      "stdin> X92896\n",
      "Found X92896 in position 5905\n",
      "Enter an accession number \n",
      "stdin> stop\n"
     ]
    }
   ],
   "source": [
    "open(\"/Users/laurasansc/github/learning_julia/exercises/clean.acc\") do file\n",
    "    acc_n = readlines(file)\n",
    "    acc_n = sort(acc_n)\n",
    "    \n",
    "    println(\"Enter an accession number \")\n",
    "    stdin = uppercase(readline())\n",
    "    \n",
    "    while stdin != \"STOP\" \n",
    "        lower = 0\n",
    "        upper = length(acc_n)\n",
    "        \n",
    "        if stdin != \"STOP\"\n",
    "            while lower < upper\n",
    "                mid = lower + (upper - lower) ÷ 2\n",
    "                val = acc_n[mid]\n",
    "                if stdin == val\n",
    "                    println(\"Found $val in position $mid\")\n",
    "                    break\n",
    "                elseif stdin > val\n",
    "                    if lower == mid\n",
    "                        println(\"This accession number, $stdin, was not found. Sorry.\")\n",
    "                        break\n",
    "                    end\n",
    "                    lower = mid\n",
    "                elseif stdin < val\n",
    "                    upper = mid\n",
    "                end\n",
    "        \n",
    "            end\n",
    "        println(\"Enter an accession number \")\n",
    "        stdin = uppercase(readline())\n",
    "            \n",
    "        end\n",
    "    end\n",
    "end\n"
   ]
  },
  {
   "cell_type": "markdown",
   "metadata": {},
   "source": [
    "**7. It is time to improve on some of your old programs by adding a command line interface (not replacing the interactive interface you already have). This simply means that you can write ProgramName FileName (or something like it) on the command line and your program should then use the argument that you have supplied on the command line (in this case: FileName). It should only ask for a filename (or whatever) if no argument was specified.**\n",
    "   \n",
    "       a) Improve exercise 4.2 like this: If you do not supply arguments from the command line, keep the old behaviour, i.e. read two number from STDIN and take the average. If you supply arguments on on the command line, then it must be 2 numbers from which you calculate the average."
   ]
  },
  {
   "cell_type": "code",
   "execution_count": null,
   "metadata": {},
   "outputs": [],
   "source": [
    "####    way 1     ####\n",
    "# command line will be julia ex_5_7_A.jl <number1> <number2>\n",
    "\n",
    "number1 = parse(Int64, ARGS[1])\n",
    "number2 = parse(Int64, ARGS[2])\n",
    "\n",
    "average = (number1 + number2) / 2\n",
    "\n",
    "println(\"The average between $number1 and $number2 is $average\")"
   ]
  },
  {
   "cell_type": "code",
   "execution_count": null,
   "metadata": {},
   "outputs": [],
   "source": [
    "####     way 2     ####\n",
    "# This works with a file with numbers\n",
    "# command line will be julia ex_5_7_B.jl <infile>\n",
    "\n",
    "infile = ARGS[1]\n",
    "\n",
    "open(infile) do file\n",
    "    numbers = readlines(file)\n",
    "    counter = 0\n",
    "    total = 0\n",
    "\n",
    "    for number in numbers\n",
    "        total += parse(Int64, number)\n",
    "        counter += 1\n",
    "    end\n",
    "\n",
    "    average = round(total/counter, digits = 3)\n",
    "    print(\"The average between the numbers in the file is $average\")\n",
    "end"
   ]
  },
  {
   "cell_type": "markdown",
   "metadata": {},
   "source": [
    "        b) Improve exercise 4.3 by either finding a file name as argument supplied on the command line, or if no file name, ask for it. Then count the negative numbers in the file as the original program did. You are expected to provide such an interface when relevant in future exercises."
   ]
  },
  {
   "cell_type": "code",
   "execution_count": null,
   "metadata": {},
   "outputs": [],
   "source": [
    "# commandline julia ex_5_7_C.jl <infile>\n",
    "infile = ARGS[1]\n",
    "\n",
    "open(infile) do file\n",
    "\tnumbers = readlines(file)\n",
    "\tcounter = 0 \n",
    "\tfor number in numbers\n",
    "\t\tif parse(Float32, number) < 0\n",
    "\t\t\tcounter += 1\n",
    "\t\tend \n",
    "\tend\n",
    "\tprintln(\"There are $counter negative numbers\")\n",
    "end\n"
   ]
  },
  {
   "cell_type": "markdown",
   "metadata": {},
   "source": [
    "**8. Make a Python program that works a bit like unix cut. Test it before you start so you know how the output looks. It should cut out the columns that you specify in the order you specify on the command line from a tab-separated file. Some examples could be 'pythoncut.py 2 ex1.dat' which cuts out column 2 from ex1.dat or 'pythoncut.py 3 1 ex1.dat' which cuts out columns 3 and 1 from ex1.dat and displays them in that order (which is different from the original).**"
   ]
  },
  {
   "cell_type": "code",
   "execution_count": null,
   "metadata": {},
   "outputs": [],
   "source": []
  },
  {
   "cell_type": "markdown",
   "metadata": {},
   "source": [
    "**9. Improve exercise 3.4. Calculate the three sums of the three columns in one reading of the file ex1.dat using split to separate the columns.**"
   ]
  },
  {
   "cell_type": "code",
   "execution_count": null,
   "metadata": {},
   "outputs": [],
   "source": []
  },
  {
   "cell_type": "markdown",
   "metadata": {},
   "source": [
    "**10. Improve on the previous exercise by making a program that calculates the sum of all columns in the file, no matter how many columns there are. Each column should be summed individually. You can assume that each row (line) has the same number of columns in the file.** "
   ]
  },
  {
   "cell_type": "code",
   "execution_count": null,
   "metadata": {},
   "outputs": [],
   "source": []
  }
 ],
 "metadata": {
  "kernelspec": {
   "display_name": "Julia 1.5.0",
   "language": "julia",
   "name": "julia-1.5"
  },
  "language_info": {
   "file_extension": ".jl",
   "mimetype": "application/julia",
   "name": "julia",
   "version": "1.5.0"
  }
 },
 "nbformat": 4,
 "nbformat_minor": 4
}
