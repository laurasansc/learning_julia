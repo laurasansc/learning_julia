{
 "cells": [
  {
   "cell_type": "markdown",
   "metadata": {},
   "source": [
    "## EXERCISES 4\n",
    "### Exceptions and Bug Handling"
   ]
  },
  {
   "cell_type": "markdown",
   "metadata": {},
   "source": [
    "**1. This and the following 5 exercises deal with SwissProt. The file sprot1.dat is a SwissProt database entry. Study it carefully. Locate the SwissProt ID (SP96_DICDI), the accession number (P14328) and the amino acid sequence (MRVLLVLVAC....TTTATTTATS). There are other entries ( sprot2.dat, sprot3.dat, sprot4.dat). Your programs should work on those, too. Also your programs must solve all the problems in ONE reading of the file. It is acceptable if you just hand in one program that solves 2 to 5. 6 is separate.**\n"
   ]
  },
  {
   "cell_type": "markdown",
   "metadata": {},
   "source": [
    "**2.Make a program that reads the ID and prints it.**"
   ]
  },
  {
   "cell_type": "markdown",
   "metadata": {},
   "source": [
    "**3. Add the following functionality to the program: Read the accession number and print it.**\n"
   ]
  },
  {
   "cell_type": "markdown",
   "metadata": {},
   "source": [
    "**4. Add the following functionality to the program: Read the amino acid sequence and print it.**\n"
   ]
  },
  {
   "cell_type": "markdown",
   "metadata": {},
   "source": [
    "**5. Add the following functionality to the program: Verification of amino acid number. This means extract the number from the SQ line (example: SQ SEQUENCE 629 AA;) and check that the amino acid sequence has that number of residues. It should be the program that determines if something is wrong - not the user. Imagine that before you go home, you set the computer to run through a million swisprot entries. The next day, you must be able to see what failed. In a sense you don't care about what succeeded, as that is the common case. You care about what failed, because it is here you must take action.**"
   ]
  },
  {
   "cell_type": "code",
   "execution_count": 72,
   "metadata": {},
   "outputs": [
    {
     "name": "stdout",
     "output_type": "stream",
     "text": [
      "ID: SP96_DICDI\n",
      "Accession number: P14328\n",
      "Sequence:\n",
      "MRVLLVLVACLTYFSGGALAQSCSSYSGDNCPSTCFQGSYDIPCGAQVKYCTEMKDNCGEGGDVKCWKDGSNLPVQTWSSCVPSELFGPNGKFKPSEIPNSSNCPTNCENGVEWVNLCGLSCDAKTACCPDVCQCKGGQTSGGSTTGSQTSGGSTSGGSTTGSQTSGGSTTGSQTSGSQTSAGSCSNTQCPNGFYCQVQGNNAVCVPQQSSTSGGHQNDPCDTVQCPYGYSCESRDGFEAKCTRDEDEPTHRPTHRPKPPHDSDKYLCDNVHCPRGYKCNAKNGVAKCIAGYEIPRVCRNIQCPTGYRCEDHNRNPICVLEERENPDNCLTCNDVNCEASGLVCVMTRARCKVGAAKCCDVQPTCIKPSTIAGSTIASIASTIASTGSTGATSPCSVAQCPTGYVCVAQNNVAVSLPRPTTTTGSTSDSSALGSTSESSASGSSAVSSSASGSSAASSSPSSSAASSSPSSSAASSSPSSSAASSSPSSSASSSSSPSSSASSSSAPSSSASSSSAPSSSASSSSASSSSASSAATTAATTIATTAATTTATTTATTATTTATTTATTTAATIATTTAATTTATTTATTATTTATTTATS\n"
     ]
    }
   ],
   "source": [
    "open(\"/Users/laurasansc/github/learning_julia/files/sprot1.dat.txt\") do file\n",
    "    flag = false\n",
    "    sequence = \"\"\n",
    "    ID = \"\"\n",
    "    AC = \"\"\n",
    "    AA_num = \"\"\n",
    "    for ln in eachline(file)\n",
    "        header = ln[1:2]\n",
    "        # GET ID\n",
    "        if header == \"ID\"\n",
    "            ID_re = match(r\"ID\\W+(\\w+)\", ln)\n",
    "            ID = ID_re.captures[1]\n",
    "        end\n",
    "        # GET ACCESSION NUMBER\n",
    "        if header == \"AC\"\n",
    "            AC_re = match(r\"AC\\W+(\\w+)\", ln)\n",
    "            AC = AC_re.captures[1]\n",
    "        end\n",
    "        # GET SEQUENCE\n",
    "        if header == \"//\"\n",
    "            flag = false\n",
    "        end\n",
    "        if flag == true\n",
    "            ln = strip(ln, [' '])\n",
    "            sequence = string(sequence*ln)    \n",
    "        end\n",
    "        if header == \"SQ\"\n",
    "            flag = true\n",
    "            AA_num_re = match(r\"SQ\\W+SEQUENCE\\W+(\\w+)\", ln)\n",
    "            AA_num = AA_num_re.captures[1]  \n",
    "        end \n",
    "    end\n",
    "    sequence = replace(sequence, \" \" => \"\")\n",
    "    println(\"ID: \", ID)\n",
    "    println(\"Accession number: \", AC)\n",
    "    println(\"Sequence:\\n\", sequence)\n",
    "    if length(sequence) != parse(Int64, AA_num)\n",
    "        println(\"There was an error extracting the sequence, the sequence length does not match the number of aminoacids \")\n",
    "\n",
    "    end\n",
    "end"
   ]
  },
  {
   "cell_type": "markdown",
   "metadata": {},
   "source": [
    "**6.Now that you have the ID, accession number and AA sequence save it to a file sprot.fsa in FASTA format. Look in the file dna.fsa for an example of FASTA. Notice the first line starts with > and immediately after comes an unique identifier, like an accession number or a SwissProt ID. Any other data must be on the header line only, but in free format. Sequence data is on the following lines. \n",
    "Notice that this exercise incorporates the previous 5, but uses the result in a slightly different way.**\n"
   ]
  },
  {
   "cell_type": "code",
   "execution_count": null,
   "metadata": {},
   "outputs": [],
   "source": [
    "open(\"/Users/laurasansc/github/learning_julia/files/sprot1.dat.txt\") do file\n",
    "    flag = false\n",
    "    sequence = \"\"\n",
    "    ID = \"\"\n",
    "    AC = \"\"\n",
    "    AA_num = \"\"\n",
    "    for ln in eachline(file)\n",
    "        header = ln[1:2]\n",
    "        # GET ID\n",
    "        if header == \"ID\"\n",
    "            ID_re = match(r\"ID\\W+(\\w+)\", ln)\n",
    "            ID = ID_re.captures[1]\n",
    "        end\n",
    "        # GET ACCESSION NUMBER\n",
    "        if header == \"AC\"\n",
    "            AC_re = match(r\"AC\\W+(\\w+)\", ln)\n",
    "            AC = AC_re.captures[1]\n",
    "        end\n",
    "        # GET SEQUENCE\n",
    "        if header == \"//\"\n",
    "            flag = false\n",
    "        end\n",
    "        if flag == true\n",
    "            ln = strip(ln, [' '])\n",
    "            sequence = string(sequence*ln)    \n",
    "        end\n",
    "        if header == \"SQ\"\n",
    "            flag = true\n",
    "            AA_num_re = match(r\"SQ\\W+SEQUENCE\\W+(\\w+)\", ln)\n",
    "            AA_num = AA_num_re.captures[1]  \n",
    "        end \n",
    "    end\n",
    "    sequence = replace(sequence, \" \" => \"\")\n",
    "    #println(\"ID: \", ID)\n",
    "    #println(\"Accession number: \", AC)\n",
    "    #println(\"Sequence:\\n\", sequence)\n",
    "    if length(sequence) != parse(Int64, AA_num)\n",
    "        println(\"There was an error extracting the sequence, the sequence length does not match the number of aminoacids \")\n",
    "\n",
    "    end\n",
    "    output = open(\"sprot1.fsa\", \"w\")\n",
    "\n",
    "    write(output, \">\",ID,\"\\t\",AC,\"\\t\",AA_num,\" AA\\n\")\n",
    "    for i in 0:60:length(sequence)\n",
    "        if i+1 < length(sequence)\n",
    "            bit = sequence[i+1:i+60]\n",
    "            write(output, sequence[i+1:i+60],'\\n')\n",
    "        end\n",
    "    end\n",
    "    close(output)\n",
    "end"
   ]
  },
  {
   "cell_type": "markdown",
   "metadata": {},
   "source": [
    "**7. In the file dna.fsa is some DNA. Construct a program that finds possible translation starts :-)\n",
    "All proteins start with the amino acid methionine (at least when translating, Met might be removed in later processing states). Methionine is coded with ATG. The exercise is therefore; find the position of all ATG's in the sequence. The first position is 83 as humans count. \n",
    "In some organisms different start codon are possible. If you really want to, you can make the program handle those cases too.**\n"
   ]
  },
  {
   "cell_type": "code",
   "execution_count": 117,
   "metadata": {},
   "outputs": [
    {
     "name": "stdout",
     "output_type": "stream",
     "text": [
      "ATG found at: 83-85\n",
      "ATG found at: 105-107\n",
      "ATG found at: 269-271\n",
      "ATG found at: 299-301\n",
      "ATG found at: 457-459\n",
      "ATG found at: 576-578\n",
      "ATG found at: 685-687\n",
      "ATG found at: 740-742\n",
      "ATG found at: 789-791\n",
      "ATG found at: 792-794\n",
      "ATG found at: 804-806\n",
      "ATG found at: 966-968\n",
      "ATG found at: 1037-1039\n",
      "ATG found at: 1071-1073\n",
      "ATG found at: 1079-1081\n",
      "ATG found at: 1197-1199\n",
      "ATG found at: 1251-1253\n",
      "ATG found at: 1307-1309\n",
      "ATG found at: 1389-1391\n",
      "ATG found at: 1466-1468\n",
      "ATG found at: 1502-1504\n",
      "ATG found at: 1556-1558\n"
     ]
    }
   ],
   "source": [
    "open(\"/Users/laurasansc/github/learning_julia/files/dna.fsa\") do file\n",
    "    sequence = \"\"\n",
    "    id = \"\"\n",
    "    for line in eachline(file)\n",
    "        if occursin(\">\", line)\n",
    "            id_re = match(r\">(\\w+)\", line)\n",
    "            id = id_re.captures[1]\n",
    "        else\n",
    "           sequence = string(sequence, line) \n",
    "        end\n",
    "    end\n",
    "    for i in 1:length(sequence)\n",
    "        if i+3 < length(sequence)\n",
    "            bit = sequence[i+1:i+3]\n",
    "            if bit == \"ATG\"\n",
    "                println(\"ATG found at: \", i+1,\"-\",i+3)\n",
    "            end\n",
    "        end\n",
    "    end\n",
    "end\n",
    "\n"
   ]
  },
  {
   "cell_type": "markdown",
   "metadata": {},
   "source": [
    "**8. Assuming that the first Met at position 83 is translation start, find the corresponding translation stop (which is the first one in frame). Stop codon is coded by TAA, TAG, or TGA. Remember that the stop codon has to be in the same reading frame as ATG. Notice: There are two ways to solving this exercise. The primitive way is to start at the position given. The more general and better way is to find the first ATG and then find the corresponding stop codon.**"
   ]
  },
  {
   "cell_type": "code",
   "execution_count": 152,
   "metadata": {},
   "outputs": [
    {
     "name": "stdout",
     "output_type": "stream",
     "text": [
      "start: 83 & stop: 48\n",
      "ATGACCCCCCAAAGGGCGAGGCATGCAGGAGGTGGAGGAATTAAGTGA\n"
     ]
    }
   ],
   "source": [
    "open(\"/Users/laurasansc/github/learning_julia/files/dna.fsa\") do file\n",
    "    sequence = \"\"\n",
    "    final_seq = \"\"\n",
    "    id = \"\"\n",
    "    start_pos = 0\n",
    "    stop_pos = 0\n",
    "    for line in eachline(file)\n",
    "        if occursin(\">\", line)\n",
    "            id_re = match(r\">(\\w+)\", line)\n",
    "            id = id_re.captures[1]\n",
    "        else\n",
    "           sequence = string(sequence, line) \n",
    "        end\n",
    "    end\n",
    "    for i in 1:length(sequence)\n",
    "        if i+3 < length(sequence)\n",
    "            bit = sequence[i+1:i+3]\n",
    "            if bit == \"ATG\"\n",
    "                start_pos = i+1 \n",
    "                break\n",
    "            end\n",
    "        end\n",
    "    end\n",
    "    new_seq = sequence[start_pos:end]\n",
    "    for i in 0:3:length(new_seq)\n",
    "        #println(i)\n",
    "        if i < length(new_seq)\n",
    "            if new_seq[i+1:i+3] == \"TGA\" || new_seq[i+1:i+3] == \"TAA\" || new_seq[i+1:i+3] == \"TAG\"\n",
    "                final_seq = new_seq[1:i+3]\n",
    "                stop_pos = i+3\n",
    "                \n",
    "                break\n",
    "            end\n",
    "        end\n",
    "    end\n",
    "    println(\"start: \", start_pos, \" & stop: \", stop_pos)\n",
    "    println(final_seq)\n",
    "end"
   ]
  },
  {
   "cell_type": "markdown",
   "metadata": {},
   "source": [
    "**9. Make a program that asks for an organism, like 'HUMAN' or 'RAT'. The program should then count the number of lines/times a SwissProt identifier in the file orphans.sp is present with said organism, ie. PARG_HUMAN and LUM_HUMAN are the two first (but not last) for HUMAN.**\n",
    "\n"
   ]
  },
  {
   "cell_type": "code",
   "execution_count": 10,
   "metadata": {},
   "outputs": [
    {
     "name": "stdout",
     "output_type": "stream",
     "text": [
      "Enter an organism (HUMAN, RAT, MOUSE): \n",
      "stdin> chick\n",
      "LUM_CHICK\n",
      "FMOD_CHICK\n",
      "SY04_CHICK\n",
      "SOX2_CHICK\n",
      "FAK1_CHICK\n",
      "TENA_CHICK\n",
      "NEO1_CHICK\n",
      "CADA_CHICK\n",
      "SM3E_CHICK\n",
      "SM3A_CHICK\n",
      "CTCF_CHICK\n",
      "411_CHICK\n",
      "CADA_CHICK\n",
      "VIME_CHICK\n",
      "REST_CHICK\n",
      "MYSG_CHICK\n",
      "MYSE_CHICK\n",
      "MYSG_CHICK\n",
      "MYSN_CHICK\n",
      "FORM_CHICK\n",
      "MYSD_CHICK\n",
      "MYSN_CHICK\n",
      "MYSG_CHICK\n"
     ]
    }
   ],
   "source": [
    "println(\"Enter an organism (HUMAN, RAT, MOUSE): \")\n",
    "stdin = uppercase(readline())\n",
    "\n",
    "open(\"/Users/laurasansc/github/learning_julia/files/orphans.sp\") do file\n",
    "    ID = \"\"\n",
    "    for ln in eachline(file)\n",
    "        if occursin(\">\", ln) == false\n",
    "            # GET ID\n",
    "            ID_re = match(r\"(\\w+_(\\w+))\\W+\", ln)\n",
    "            ID = ID_re.captures[1]\n",
    "            organism = ID_re.captures[2]\n",
    "            if organism == stdin\n",
    "                println(ID)\n",
    "            end\n",
    "        end\n",
    "    end\n",
    "    \n",
    "end\n",
    "\n"
   ]
  },
  {
   "cell_type": "markdown",
   "metadata": {},
   "source": [
    "**10. Playing time a again. Make the guessing program from last week count how many attempts it needed to guess the number and print it when done guessing. It must be able to detect if you lie (and say so, of course). Also, if you haven't done it before, make the program guess in the fewest possible guesses (an example of 'binary search').**"
   ]
  },
  {
   "cell_type": "code",
   "execution_count": 13,
   "metadata": {},
   "outputs": [
    {
     "name": "stdout",
     "output_type": "stream",
     "text": [
      "Hellooo! Play time again.\n",
      "Enter a number from 1 to X, so I can start guessing...\n",
      "stdin> 5\n"
     ]
    },
    {
     "ename": "LoadError",
     "evalue": "syntax: newline not allowed after \":\" used for quoting",
     "output_type": "error",
     "traceback": [
      "syntax: newline not allowed after \":\" used for quoting",
      "",
      "Stacktrace:",
      " [1] top-level scope at In[13]:30",
      " [2] include_string(::Function, ::Module, ::String, ::String) at ./loading.jl:1091"
     ]
    }
   ],
   "source": [
    "println(\"Hellooo! Play time again.\")\n",
    "\n",
    "#input the max range\n",
    "println(\"Enter a number from 1 to X, so I can start guessing...\")\n",
    "number = parse(Int64, readline())\n",
    "\n",
    "#user input\n",
    "answer = \"none\"\n",
    "guess = round(number/2)\n",
    "min_val = 1\n",
    "max_val = number\n",
    "count = 0\n",
    "\n",
    "while answer != \"yes\"\n",
    "    println(\"My guess is \", guess)\n",
    "    # ask if the guess is correct\n",
    "\n",
    "    println(\"am I correct? (yes, higher, lower)\")\n",
    "    number = lowercase(readline())# Put lower just in case the input contains any uppercase characters\n",
    "    count += 1\n",
    "    \n",
    "    # depending on the answer ...\n",
    "    if answer == \"higher\"\n",
    "                # if I get to a value that is the highest I can and the guess \n",
    "        # has not appeared means you are cheating \n",
    "        if min_val == guess\n",
    "            print(\"Are you cheating? Bye\")\n",
    "            break\n",
    "        else:\n",
    "        min_val = guess\n",
    "        guess = (max_val+min_val)/2\n",
    "        end\n",
    "    elseif answer == \"lower\"\n",
    "        # if I get to a value that is the lowest I can and the guess \n",
    "        # has not appeared means you are cheating \n",
    "        if max_val == guess\n",
    "            print(\"Are you cheating? Bye\")\n",
    "            break\n",
    "        else\n",
    "            max_val = guess\n",
    "            guess = (max_val+min_val)/2) #int allows it to round down to 1.\n",
    "        end\n",
    "    elseif answer != \"yes\" # When entering an answer that is not lower, higher or yes\n",
    "        print(\"Answer again!\")\n",
    "    end\n",
    "end\n",
    "\n",
    "if answer == \"yes\"\n",
    "    println(\"Yayyyy! I guessed the number you thought of. It was \", guess, \", and it took me \", count, \"tries to guess it. Thanks for playing!\")\n",
    "end\n"
   ]
  },
  {
   "cell_type": "code",
   "execution_count": null,
   "metadata": {},
   "outputs": [],
   "source": []
  }
 ],
 "metadata": {
  "kernelspec": {
   "display_name": "Julia 1.5.0",
   "language": "julia",
   "name": "julia-1.5"
  },
  "language_info": {
   "file_extension": ".jl",
   "mimetype": "application/julia",
   "name": "julia",
   "version": "1.5.0"
  }
 },
 "nbformat": 4,
 "nbformat_minor": 4
}
