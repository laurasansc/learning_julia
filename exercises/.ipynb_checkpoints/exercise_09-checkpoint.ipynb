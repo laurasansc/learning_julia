{
 "cells": [
  {
   "cell_type": "markdown",
   "metadata": {},
   "source": [
    "## Exercises 9\n",
    "### Python and Advanced Data Structures"
   ]
  },
  {
   "cell_type": "markdown",
   "metadata": {},
   "source": [
    "**1. In the file test1.dat is results from an experiment in the form**\n",
    "```\n",
    "     Accession    Number   Number   Number    Number ....\n",
    "```\n",
    "**In the files test2.dat and test3.dat are results from similar experiments but with a slightly different gene set. You want to average the numbers from all experiments for each accession number. The output this therefore.**\n",
    "```\n",
    "   Accession   Number   SingleAverageNumberOfAll3Experiments\n",
    "```\n",
    "**Of course it might happen that a certain gene is only in one or two experiments and in that case you calculate the average for those. You must use a one of complex data structures to store this data, preferably a dict of lists.< OPTIONAL: If you have time and inclination, then you can also solve this using simple one-dimensional structures.**\n"
   ]
  },
  {
   "cell_type": "code",
   "execution_count": null,
   "metadata": {},
   "outputs": [],
   "source": [
    "#dict of lists to store num of gen and calculate mean of numbers in experiments\n",
    "# Initialize\n",
    "done = false\n",
    "filename_list = []\n",
    "dict_genes = Dict()\n",
    "n = 1\n",
    "while done == false\n",
    "    println(\"Please enter a filename: \")\n",
    "    filename = lowercase(readline())\n",
    "    push!(filename_list, filename)\n",
    "    \n",
    "    println(\"Do you want to open another experiments file? (y/n)\")\n",
    "    answer = lowercase(readline())\n",
    "\n",
    "    if answer == \"n\"\n",
    "        done = true\n",
    "    elseif answer == 'y'\n",
    "        done = false\n",
    "    else\n",
    "        println(\"I didn't understand your answer, I will stop asking.\")\n",
    "        done = true\n",
    "    end\n",
    "end\n",
    "\n",
    "for item in filename_list \n",
    "    infile = open(item, \"r\")\n",
    "    for line in eachline(infile)\n",
    "        row = split(line, '\\t')\n",
    "        gene_id = row[1]\n",
    "    \n",
    "        if haskey(dict_genes, gene_id) == false\n",
    "            dict_genes[gene_id] = []\n",
    "            for x in 2:length(row)\n",
    "                dict_genes[gene_id] = push!(dict_genes[gene_id],parse(Float64,row[x]))\n",
    "            end\n",
    "        else\n",
    "            for x in 2:length(row)\n",
    "                dict_genes[gene_id] = push!(dict_genes[gene_id],parse(Float64,row[x]))\n",
    "            end\n",
    "        end\n",
    "    end\n",
    "    \n",
    "    outfile = open(\"average_exp.txt\", \"w\")                # open outfile\n",
    "    for (key, value) in dict_genes\n",
    "        average_exp = sum(value)/length(value)# compute average\n",
    "        line = string(key,'\\t',round(average_exp, digits = 4),'\\n')\n",
    "        write(outfile, line) # write output\n",
    " \n",
    "    end\n",
    "    close(outfile)\n",
    "end"
   ]
  },
  {
   "cell_type": "markdown",
   "metadata": {},
   "source": [
    "**2. Create a program that reads a tab separated file with numbers, matrix.dat, (to be understood as a matrix) and stores the numbers in a matrix (list of lists). Having read the matrix from file it should now transpose it (rows to columns and columns to rows) and in the end print the transposed matrix to the screen. The output should look like the input, not a python data structure. You must construct a function like transpose(matrix), which transpose the matix without using any global variables. This can be done in two ways.**\n",
    "\n",
    "    a) matrix = transpose(matrix). This is the easiest, but momentarily most memory consuming method, you just return the transposed matrix, i.e. a new data structure.\n",
    "    b) transpose(matrix) Here the matrix is transposed in-line, no returned matrix, i.e. the original data structure is changed.\n",
    "\n",
    "**You have implement at least one of the two ways. Hint: Make a function that prints a given matrix. That will be useful underway. How do you easily check if it works? Well, transposing twice yields the original matrix.** "
   ]
  },
  {
   "cell_type": "code",
   "execution_count": 14,
   "metadata": {},
   "outputs": [
    {
     "data": {
      "text/plain": [
       "4×3 LinearAlgebra.Transpose{Float64,Array{Float64,2}}:\n",
       " 1.0  5.0   9.0\n",
       " 2.0  6.0  10.0\n",
       " 3.0  7.0  11.0\n",
       " 4.0  8.0  12.0"
      ]
     },
     "metadata": {},
     "output_type": "display_data"
    },
    {
     "data": {
      "text/plain": [
       "3×4 Array{Int8,2}:\n",
       " 0  0  0  0\n",
       " 0  0  0  0\n",
       " 0  0  0  0"
      ]
     },
     "metadata": {},
     "output_type": "display_data"
    }
   ],
   "source": [
    "# EASY WAY / FAST WAY\n",
    "using DelimitedFiles\n",
    "# Open files\n",
    "m = readdlm(\"/Users/laurasansc/github/learning_julia/files/matrix.dat\")\n",
    "\n",
    "transposed = transpose(m)\n",
    "\n",
    "display(\"text/plain\", transposed)\n"
   ]
  },
  {
   "cell_type": "code",
   "execution_count": 46,
   "metadata": {},
   "outputs": [
    {
     "data": {
      "text/plain": [
       "4×3 Array{Int64,2}:\n",
       " 1  5   9\n",
       " 2  6  10\n",
       " 3  7  11\n",
       " 4  8  12"
      ]
     },
     "metadata": {},
     "output_type": "display_data"
    }
   ],
   "source": [
    "# LONG WAY\n",
    "#Initialize\n",
    "m = []\n",
    "        \n",
    "# Open files\n",
    "infile = open(\"/Users/laurasansc/github/learning_julia/files/matrix.dat\", \"r\")\n",
    "\n",
    "# get cols and rows\n",
    "for line in eachline(infile)\n",
    "    line = split(line)\n",
    "    row = []\n",
    "    for item in line\n",
    "        push!(row, parse(Int64, item))\n",
    "    end\n",
    "    push!(m, row)  \n",
    "end\n",
    "\n",
    "function get_transpose(m)\n",
    "    transposed = zeros(Int64, length(m[1]), length(m))\n",
    "    for i in 1:length(m[1])\n",
    "        for j in 1:length(m)\n",
    "            num = m[j][i]\n",
    "            transposed[i,j] = num\n",
    "        end\n",
    "    end\n",
    "    return transposed\n",
    "end\n",
    "\n",
    "\n",
    "transposed = get_transpose(m)\n",
    "display(\"text/plain\", transposed)\n"
   ]
  }
 ],
 "metadata": {
  "kernelspec": {
   "display_name": "Julia 1.5.0",
   "language": "julia",
   "name": "julia-1.5"
  },
  "language_info": {
   "file_extension": ".jl",
   "mimetype": "application/julia",
   "name": "julia",
   "version": "1.5.0"
  }
 },
 "nbformat": 4,
 "nbformat_minor": 4
}
