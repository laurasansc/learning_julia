{
 "cells": [
  {
   "cell_type": "markdown",
   "metadata": {},
   "source": [
    "## EXERCISES 1 \n",
    "### Julia Basics\n"
   ]
  },
  {
   "cell_type": "markdown",
   "metadata": {},
   "source": [
    "#### 1. Write 'Hello World' on the screen."
   ]
  },
  {
   "cell_type": "code",
   "execution_count": null,
   "metadata": {},
   "outputs": [],
   "source": [
    "println(\"Hello World!\")"
   ]
  },
  {
   "cell_type": "markdown",
   "metadata": {},
   "source": [
    "#### 2. Write 'Hello World' 10 times using a loop. One Hello per line."
   ]
  },
  {
   "cell_type": "code",
   "execution_count": null,
   "metadata": {},
   "outputs": [],
   "source": [
    "for i in 1:10\n",
    "    println(\"Hello World!\")\n",
    "end"
   ]
  },
  {
   "cell_type": "markdown",
   "metadata": {},
   "source": [
    "#### 3. Write numbers 1 to 10 to the screen one number per line. Use a loop."
   ]
  },
  {
   "cell_type": "code",
   "execution_count": null,
   "metadata": {},
   "outputs": [],
   "source": [
    "for i in 1:10\n",
    "    println(i)\n",
    "end"
   ]
  },
  {
   "cell_type": "markdown",
   "metadata": {},
   "source": [
    "#### 4. Make a program ask for a name, and then write a greeting using that name. However, if it is your name you give as input the greeting should be extra nice."
   ]
  },
  {
   "cell_type": "code",
   "execution_count": null,
   "metadata": {},
   "outputs": [],
   "source": [
    "println(\"Enter your name: \")\n",
    "my_name = readline()\n",
    "\n",
    "if my_name == \"laura\"\n",
    "    println(\"Heyyyy, nice to see you\")\n",
    "else\n",
    "    println(\"Hi, good to see you\")\n",
    "end"
   ]
  },
  {
   "cell_type": "markdown",
   "metadata": {},
   "source": [
    "## 5. Make a program that ask for two numbers (one at a time) and then prints them and their sum."
   ]
  },
  {
   "cell_type": "code",
   "execution_count": 1,
   "metadata": {
    "scrolled": true
   },
   "outputs": [
    {
     "name": "stdout",
     "output_type": "stream",
     "text": [
      " Enter number 1:\n",
      "stdin> 5\n",
      " Enter number 2:\n",
      "stdin> 5\n",
      "This are the numbers you entered: 5 and 5\n",
      "This is the sum:10\n"
     ]
    }
   ],
   "source": [
    "println(\" Enter number 1:\")\n",
    "num_1 = parse(Int, readline())\n",
    "println(\" Enter number 2:\")\n",
    "num_2 = parse(Int, readline())\n",
    "\n",
    "println(\"This are the numbers you entered: \", num_1,\" and \", num_2)\n",
    "line = (\"This are the numbers you entered: \", num_1,\" and \", num_2)\n",
    "\n",
    "println(line)\n",
    "println(\"This is the sum:\", num_1 + num_2)\n"
   ]
  },
  {
   "cell_type": "markdown",
   "metadata": {},
   "source": [
    "#### 6. Ask for two numbers and ask what operation to perform on them (+, - , *, /) and display the numbers and the result."
   ]
  },
  {
   "cell_type": "code",
   "execution_count": null,
   "metadata": {},
   "outputs": [],
   "source": [
    "println(\" Enter number 1:\")\n",
    "num_1 = parse(Int, readline())\n",
    "println(\" Enter number 2:\")\n",
    "num_2 = parse(Int, readline())\n",
    "println(\" Enter operation sign (+, - , *, /)\")\n",
    "sign = readline()\n",
    "\n",
    "if sign == \"+\"\n",
    "    println(\"This is the sum:\", num_1 + num_2)\n",
    "elseif sign == \"-\"\n",
    "    println(\"This is the subtraction:\", num_1 - num_2)\n",
    "elseif sign == \"*\"\n",
    "    println(\"This is the product:\", num_1 * num_2)\n",
    "elseif sign == \"/\"\n",
    "    println(\"This is the quotient:\", num_1 / num_2)\n",
    "else\n",
    "    println(\"The operation sign you entered is incorrect\")\n",
    "end\n",
    "    \n",
    "    \n"
   ]
  },
  {
   "cell_type": "markdown",
   "metadata": {},
   "source": [
    "#### 7. Ask for two integers and print them and all integers between them. It is not necessary to perform input control - just assume that the user is well-behaved and inputs integers."
   ]
  },
  {
   "cell_type": "code",
   "execution_count": null,
   "metadata": {
    "scrolled": true
   },
   "outputs": [],
   "source": [
    "println(\" Enter number 1:\")\n",
    "num_1 = parse(Int, readline())\n",
    "println(\" Enter number 2:\")\n",
    "num_2 = parse(Int, readline())\n",
    "\n",
    "if num_1 > num_2\n",
    "    for i in num_2:num_1\n",
    "        println(i)\n",
    "    end\n",
    "else\n",
    "    for i in num_1:num_2\n",
    "        println(i)\n",
    "    end\n",
    "end"
   ]
  },
  {
   "cell_type": "markdown",
   "metadata": {},
   "source": [
    "#### 8. Now make the same program work even if you switch the input numbers, so it does not matter if you input the smallest number first or last."
   ]
  },
  {
   "cell_type": "code",
   "execution_count": null,
   "metadata": {},
   "outputs": [],
   "source": [
    "println(\" Enter number 1:\")\n",
    "num_1 = parse(Int, readline())\n",
    "println(\" Enter number 2:\")\n",
    "num_2 = parse(Int, readline())\n",
    "\n",
    "if num_1 > num_2\n",
    "    for i in num_2:num_1\n",
    "        println(i)\n",
    "    end\n",
    "else\n",
    "    for i in num_1:num_2\n",
    "        println(i)\n",
    "    end\n",
    "end"
   ]
  },
  {
   "cell_type": "markdown",
   "metadata": {},
   "source": [
    "#### 9. This needs to be read carefully: Make a program that asks for number, and then continues asking for numbers as long as you input numbers that are greater or equal to all previous numbers (not the sum of previous numbers)."
   ]
  },
  {
   "cell_type": "code",
   "execution_count": null,
   "metadata": {},
   "outputs": [],
   "source": [
    "println(\" Enter number 1:\")\n",
    "num_1 = parse(Int, readline())\n",
    "num_2 = 0\n",
    "\n",
    "while num_1 >= num_2\n",
    "    println(\" Enter number 1:\")\n",
    "    num_2 = num_1\n",
    "    num_1 = parse(Int, readline())\n",
    "    \n",
    "    end \n",
    "print(\"You entered a smaller number\")"
   ]
  },
  {
   "cell_type": "markdown",
   "metadata": {},
   "source": [
    "#### 10. Ask for a positive integer and calculate the factorial (n!) of that number. Display the result. If input is negative, display an error message. "
   ]
  },
  {
   "cell_type": "code",
   "execution_count": null,
   "metadata": {},
   "outputs": [],
   "source": [
    "println(\" Enter number 1:\")\n",
    "num_1 = parse(Int, readline())\n",
    "\n",
    "if num_1 < 0\n",
    "    println(\"The number entered is negative. \")\n",
    "else\n",
    "    fact = 1\n",
    "    \n",
    "    while num_1 > 0\n",
    "        fact = fact * num_1\n",
    "        num_1 -= 1\n",
    "    end\n",
    "    print(fact)\n",
    "    \n",
    "end\n",
    "\n",
    "# or\n",
    "#println(factorial(number))"
   ]
  },
  {
   "cell_type": "markdown",
   "metadata": {},
   "source": [
    "#### 11. If you solved the previous one then this should be relatively easy. Ask for an integer and calculate the sum from 0 up/down to the integer. An example: If you input 5 then calculate 5 + 4 + 3 + 2 + 1 (+ 0) = 15. If input is -4 then calculate -4 + -3 + -2 + -1 (+ 0) = -10."
   ]
  },
  {
   "cell_type": "code",
   "execution_count": null,
   "metadata": {},
   "outputs": [],
   "source": [
    "println(\" Enter number 1:\")\n",
    "num = parse(Int, readline())\n",
    "\n",
    "sum = 0\n",
    "if num < 0\n",
    "    for i in num:0\n",
    "    sum  += i\n",
    "    end\n",
    "else\n",
    "    for i in 0:num\n",
    "    sum  += i\n",
    "    end\n",
    "\n",
    "end\n",
    "println(\"This is the result \", sum)\n"
   ]
  }
 ],
 "metadata": {
  "kernelspec": {
   "display_name": "Julia 1.5.0",
   "language": "julia",
   "name": "julia-1.5"
  },
  "language_info": {
   "file_extension": ".jl",
   "mimetype": "application/julia",
   "name": "julia",
   "version": "1.5.0"
  }
 },
 "nbformat": 4,
 "nbformat_minor": 4
}
