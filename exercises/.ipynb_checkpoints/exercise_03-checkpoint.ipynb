{
 "cells": [
  {
   "cell_type": "markdown",
   "metadata": {},
   "source": [
    "## EXERCISES 3\n",
    "### Julia Input/Output"
   ]
  },
  {
   "cell_type": "markdown",
   "metadata": {},
   "source": [
    "**1. Make a program that asks for two numbers (integers), and calculates the mean (average) of those numbers. The mean must be converted to an integer. Displays result along with input numbers.**"
   ]
  },
  {
   "cell_type": "code",
   "execution_count": 1,
   "metadata": {},
   "outputs": [
    {
     "name": "stdout",
     "output_type": "stream",
     "text": [
      " Enter number 1:\n",
      "stdin> 3\n",
      " Enter number 2:\n",
      "stdin> 4\n",
      "This are the numbers you entered: 3 and 4\n",
      "This is the average:3.5\n"
     ]
    }
   ],
   "source": [
    "println(\" Enter number 1:\")\n",
    "num_1 = parse(Int, readline())\n",
    "println(\" Enter number 2:\")\n",
    "num_2 = parse(Int, readline())\n",
    "\n",
    "println(\"This are the numbers you entered: \", num_1,\" and \", num_2)\n",
    "\n",
    "println(\"This is the average:\", (num_1 + num_2)/2)"
   ]
  },
  {
   "cell_type": "markdown",
   "metadata": {},
   "source": [
    "**2. Create a new file that contains two integers (one integer per line) - using an editor is fine for this. Remake the program from exercise nr 1, in the way that two numbers are read from STDIN (instead asking for user input as in ex nr 1). From the terminal, feed the file to your program using already learned unix techniques, i.e. like \"cat twonumbers.txt | julia ./myprogram.jl\".**"
   ]
  },
  {
   "cell_type": "code",
   "execution_count": 3,
   "metadata": {},
   "outputs": [],
   "source": [
    "s = readlines(stdin)\n",
    "for i in s\n",
    "    println(i)\n",
    "end"
   ]
  },
  {
   "cell_type": "markdown",
   "metadata": {},
   "source": [
    "**3. Write a program that counts the number of negative numbers in ex1.dat file. Display the result.**"
   ]
  },
  {
   "cell_type": "code",
   "execution_count": 2,
   "metadata": {},
   "outputs": [
    {
     "name": "stdout",
     "output_type": "stream",
     "text": [
      "Negatives: 1278\n"
     ]
    }
   ],
   "source": [
    "open(\"/Users/laurasansc/github/learning_julia/files/ex11.dat\") do file\n",
    "    n_negatives = 0\n",
    "    for line in eachline(file)\n",
    "        line = split(line, \"\\t\")\n",
    "        \n",
    "        for number in line\n",
    "            number = parse(Float64, number)\n",
    "            \n",
    "            if number < 0 \n",
    "                n_negatives += 1\n",
    "            end\n",
    "        end\n",
    "    end\n",
    "    println(\"Negatives: \", n_negatives)\n",
    "end"
   ]
  },
  {
   "cell_type": "markdown",
   "metadata": {},
   "source": [
    "**4. Write a program that converts temperatures from Fahrenheit to Celsius or visa versa given input like \"36F\" of \"15C\" ( F = (C * 9/5) + 32 ).**"
   ]
  },
  {
   "cell_type": "code",
   "execution_count": 12,
   "metadata": {},
   "outputs": [
    {
     "name": "stdout",
     "output_type": "stream",
     "text": [
      " Enter temperature:\n",
      "stdin> 65F\n",
      "The temperature in C is 18.333333333333332\n"
     ]
    }
   ],
   "source": [
    "println(\" Enter temperature:\")\n",
    "temp_in = readline()\n",
    "\n",
    "if occursin(\"F\", temp_in)\n",
    "    F = parse(Int, chop(temp_in))\n",
    "    println(\"The temperature in C is \",(((F-32)* 5) / 9))\n",
    "elseif occursin(\"C\", temp_in)\n",
    "    C = parse(Int, chop(temp_in))\n",
    "    println(\"The temperature in F is \",( (C * 9/5) + 32) )\n",
    "else\n",
    "    println(\"The temperature you entered does not use F nor C units\")\n",
    "end"
   ]
  },
  {
   "cell_type": "markdown",
   "metadata": {},
   "source": [
    "**5. Read the file orphans.sp and find all accession numbers (and only the accession numbers), save them in another file of your choosing. Hint: an accession number might look like this AB000114.CDS.1. Consider .CDS.1 as a part of the accession number. Accession numbers differ in length for historical reasons. You can assume that the accession number comes straight after the >, which is first on the line.**"
   ]
  },
  {
   "cell_type": "code",
   "execution_count": null,
   "metadata": {},
   "outputs": [],
   "source": []
  },
  {
   "cell_type": "markdown",
   "metadata": {},
   "source": [
    "*6.Make a new program thats ask for two filenames, one at a time. It should then display the merged lines from both files, i.e. the first line from the first file concatenated (with tab) with the first line from the second file, and so forth. The output should be like that of the UNIX command paste. Try with the files ex1.acc and ex1.dat and compare with the same UNIX paste command, exercise 1.14. It should be the same. Notice that this is a purple exercise; You have make the pseudo code first and hand it in as part of the exercise.*"
   ]
  },
  {
   "cell_type": "markdown",
   "metadata": {},
   "source": [
    "**7. This and the following exercise aims to make the reverse complement string (called \"complement strand\") of DNA. There is some human DNA in dna.dat file. Read the file and put all the DNA in one variable. Now complement the DNA and store it in other variable. Display and ensure that it works. HINT: Complementing means changing all A's to T's, T's to A's, C's to G's and G's to C's.**"
   ]
  },
  {
   "cell_type": "markdown",
   "metadata": {},
   "source": [
    "**8. Now reverse the DNA after complementing it. Reverse means last letter (base) should be the first, next to last should be the second, and so forth. Display.**"
   ]
  },
  {
   "cell_type": "markdown",
   "metadata": {},
   "source": [
    "**9. Now write the DNA in the file revdna.dat. Make it look nice, just like dna.dat, i.e. 60 letters per line. This does NOT mean that you should insert newlines in the variable containing your complement strand (contamination of clean data you possibly should use later in the program). It just means that DNA in the output file must have 60 chars per line, just as in the input file.**"
   ]
  },
  {
   "cell_type": "markdown",
   "metadata": {},
   "source": [
    "**10. In the file dna.fsa is the same human DNA in FASTA format. This format is VERY often used in bioinformatics. Look at it using less and get used to the format. Observe the first line which starts with a > and identifies the sequence. The name (AB000410 in this case) MUST uniquely identify a sequence in the file. This is a DNA (actually mRNA) sequence taken from the GenBank database. Now make a program that reverse complements the sequence and writes it into the file revdna.fsa just like you did in previous assignments. This time you have to keep the first identifying line, so the sequence can be identified. You must add 'ComplementStrand' in the end of that line, though, so you later know that it is the complement strand.\n",
    "Summary: Keep the first line and reverse complement the sequence.**"
   ]
  },
  {
   "cell_type": "markdown",
   "metadata": {},
   "source": [
    "**11. Now you must analyse the AT/GC content of the DNA in the file dna.fsa. You must count all A, T, C and G, and display the result.**"
   ]
  },
  {
   "cell_type": "markdown",
   "metadata": {},
   "source": [
    "**12. Write a program that prints a \"bulls-eye\" to STDOUT using characters like; '.', '+', '*', '#', etc.\n",
    "You have to import the math library, in order to access the squareroot (sqrt), sine (sin), cosine (cos), and so forth functions. The square root of x is gotten like math.sqrt(x). I only used: for, if, elif, print, +, -, /, **, int, sqrt for this 40x40 example.\n",
    "Hint: Think of a grid where one point is the center of the eye.**"
   ]
  },
  {
   "cell_type": "code",
   "execution_count": null,
   "metadata": {},
   "outputs": [],
   "source": []
  }
 ],
 "metadata": {
  "kernelspec": {
   "display_name": "Julia 1.4.1",
   "language": "julia",
   "name": "julia-1.4"
  },
  "language_info": {
   "file_extension": ".jl",
   "mimetype": "application/julia",
   "name": "julia",
   "version": "1.4.1"
  }
 },
 "nbformat": 4,
 "nbformat_minor": 4
}
