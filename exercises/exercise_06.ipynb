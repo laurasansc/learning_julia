{
 "cells": [
  {
   "cell_type": "markdown",
   "metadata": {},
   "source": [
    "## EXERCISES 6\n",
    "### Pattern Matching and Regular Expressions"
   ]
  },
  {
   "cell_type": "markdown",
   "metadata": {},
   "source": [
    "**1. Make a program that accepts a string as input from the keyboard. Use regular expressions (RE) to determine if the input is a number.\n",
    "These should all be considered as numbers: \"4\" \"-7\" \"0.656\" \"-67.35555\"\n",
    "These are not numbers: \"5.\" \"56F\" \".32\" \"-.04\" \"1+1\"\n",
    "Note: This is likely the most difficult regular expression, you will have to make in this set of exercises. Perhaps you should do this later.**"
   ]
  },
  {
   "cell_type": "code",
   "execution_count": 1,
   "metadata": {},
   "outputs": [
    {
     "name": "stdout",
     "output_type": "stream",
     "text": [
      "Please enter a string:\n",
      "stdin> 5.6\n",
      "Your number is 5.6\n"
     ]
    }
   ],
   "source": [
    "println(\"Please enter a string:\")\n",
    "stdin = readline()\n",
    "#result = re.search(r'\\B[-]?\\d+[\\.]?\\d+', my_str) # Search the digits that start with - or nothing, but not with .\n",
    "\t\t\t\t\t\t\t\t\t\t\t\t# search also digits that continue with a dot + more digits after\n",
    "num = match(r\"^[-]*\\d+([\\.]*\\d)*+$\", stdin)\n",
    "\n",
    "if num != nothing\n",
    "\tprintln(\"Your number is \", num.match)\n",
    "else\n",
    "\tprintln(\"You did not enter a number\")\n",
    "\n",
    "end"
   ]
  },
  {
   "cell_type": "markdown",
   "metadata": {},
   "source": [
    "**2. Improve exercise 5.6 by using regular expressions to find the ID, accession number and amino acid sequence. Note: This exercise also covers verification of sequence length and creation of fasta file.**\n"
   ]
  },
  {
   "cell_type": "markdown",
   "metadata": {},
   "source": [
    "*Done already in 5.6 (Note: my exercises are always n-1, so in this case find it exercise_04-6)*"
   ]
  },
  {
   "cell_type": "markdown",
   "metadata": {},
   "source": [
    "**3. Improve exercise 4.10 using all you have learned. The program shall now take a DNA FASTA file (getting the file name from command line or asking interactively for it, both methods shall work), and reverse and complement all entries in the file. There can be more than one entry, study dna7.fsa. Hint: Use substitution or translation for complementing the DNA. Regular expressions are not strictly needed for anything than verifying that it is proper sequence.**"
   ]
  },
  {
   "cell_type": "code",
   "execution_count": 16,
   "metadata": {},
   "outputs": [],
   "source": [
    "#infile = ARGS[1]\n",
    "#println(\"Which is your file?\")\n",
    "#infile = readline()\n",
    "\n",
    "# Since there is not a function \" make trans \" in julia\n",
    "# make a function that does it\n",
    "\n",
    "\n",
    "function translate(sequence::String)\n",
    "    complement = \"\"\n",
    "    sequence = uppercase(sequence)\n",
    "    for letter in sequence\n",
    "        if string(letter) == \"A\"\n",
    "            complement = string(complement,\"T\")\n",
    "        elseif string(letter) == \"T\"\n",
    "            complement = string(complement,\"A\")\n",
    "        elseif string(letter) == \"C\"\n",
    "            complement = string(complement,\"G\")\n",
    "        elseif string(letter) == \"G\"\n",
    "            complement = string(complement,\"C\")\n",
    "        else\n",
    "            print(\"Illegal char, exit\")\n",
    "            close(infile)\n",
    "            exit()\n",
    "        end \n",
    "    end\n",
    "    return complement\n",
    "end\n",
    "\n",
    "output = open(\"output_6_3.txt\", \"w\")\n",
    "\n",
    "open(\"/Users/laurasansc/github/learning_julia/files/dna7.fsa.txt\") do file\n",
    "    sequence = \"\"\n",
    "    ID = \"\"\n",
    "    counter = 0\n",
    "    for line in eachline(file)\n",
    "        if occursin(\">\", line)\n",
    "            \n",
    "            complement =  translate(sequence)    \n",
    "            reverse_sequence = \"\"\n",
    "            for i in reverse(1:length(complement)) # Get reverse DNA\n",
    "                reverse_sequence = string(reverse_sequence,complement[i])\n",
    "            end\n",
    "            \n",
    "            write(output, \"\\n\",ID, \" ComplementStrand\\n\")\n",
    "            for char in reverse_sequence\n",
    "                write(output, char)\n",
    "                counter += 1\n",
    "                if counter == 60\n",
    "                    write(output, \"\\n\")\n",
    "                    counter = 0\n",
    "                end\n",
    "                \n",
    "            end\n",
    "            counter = 0\n",
    "            ID = line\n",
    "        else\n",
    "            sequence = string(sequence,line)\n",
    "        end\n",
    "    end\n",
    " \n",
    "end\n",
    "\n",
    "close(output)"
   ]
  },
  {
   "cell_type": "markdown",
   "metadata": {},
   "source": [
    "**4. The last exercises will all have to do with the files data1-4.gb, which are various Genbank entries of genes. First you should study the files, notice the structure of the data. In all exercises you will have to parse (read and find the wanted data) the files using RE's which are very well designed for that purpose. Every exercise adds to the previous ones, so the final program can do a lot. Remember. Your program should be able to handle all files, but just one at a time.**\n"
   ]
  },
  {
   "cell_type": "markdown",
   "metadata": {},
   "source": [
    "**5.Extract the accession number, the definition and the organism (and print it).**"
   ]
  },
  {
   "cell_type": "markdown",
   "metadata": {},
   "source": [
    "**6.Extract and print all MEDLINE article numbers which are mentioned in the entries.**"
   ]
  },
  {
   "cell_type": "markdown",
   "metadata": {},
   "source": [
    "**7.Extract and print the translated gene (the amino acid sequence). Look for the line starting with /translation=. Generalize; An amino acid sequence can be short, i.e. only one line in the feature table, or long, i.e. more than one line in the feature table.**\n"
   ]
  },
  {
   "cell_type": "markdown",
   "metadata": {},
   "source": [
    "**8. Extract and print the DNA (whole base sequence in the end of the file).**\n"
   ]
  },
  {
   "cell_type": "markdown",
   "metadata": {},
   "source": [
    "**9. Extract and print ONLY the coding DNA. That is described in FEATURES - CDS (Coding DNA Sequence). As an example, the line in data1.gb says 'join(2424..2610,3397..3542)' and means that the coding sequence are bases 2424-2610 followed by bases 3397-3542. The bases in between are an intron and not a part of the coding DNA. Remember to generalize; there can be more (or less) than two exons, and the 'join' line can continue on the next line.**"
   ]
  },
  {
   "cell_type": "code",
   "execution_count": null,
   "metadata": {},
   "outputs": [],
   "source": []
  }
 ],
 "metadata": {
  "kernelspec": {
   "display_name": "Julia 1.5.0",
   "language": "julia",
   "name": "julia-1.5"
  },
  "language_info": {
   "file_extension": ".jl",
   "mimetype": "application/julia",
   "name": "julia",
   "version": "1.5.0"
  }
 },
 "nbformat": 4,
 "nbformat_minor": 4
}
