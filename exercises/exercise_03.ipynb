{
 "cells": [
  {
   "cell_type": "markdown",
   "metadata": {},
   "source": [
    "## EXERCISES 3\n",
    "### Julia Input/Output"
   ]
  },
  {
   "cell_type": "markdown",
   "metadata": {},
   "source": [
    "**1. Make a program that asks for two numbers (integers), and calculates the mean (average) of those numbers. The mean must be converted to an integer. Displays result along with input numbers.**"
   ]
  },
  {
   "cell_type": "code",
   "execution_count": 1,
   "metadata": {},
   "outputs": [
    {
     "name": "stdout",
     "output_type": "stream",
     "text": [
      " Enter number 1:\n",
      "stdin> 1\n",
      " Enter number 2:\n",
      "stdin> 1\n",
      "This are the numbers you entered: 1 and 1\n",
      "This is the average:1.0\n"
     ]
    }
   ],
   "source": [
    "println(\" Enter number 1:\")\n",
    "num_1 = parse(Int, readline())\n",
    "println(\" Enter number 2:\")\n",
    "num_2 = parse(Int, readline())\n",
    "\n",
    "println(\"This are the numbers you entered: \", num_1,\" and \", num_2)\n",
    "\n",
    "println(\"This is the average:\", (num_1 + num_2)/2)"
   ]
  },
  {
   "cell_type": "markdown",
   "metadata": {},
   "source": [
    "**2. Create a new file that contains two integers (one integer per line) - using an editor is fine for this. Remake the program from exercise nr 1, in the way that two numbers are read from STDIN (instead asking for user input as in ex nr 1). From the terminal, feed the file to your program using already learned unix techniques, i.e. like \"cat twonumbers.txt | julia ./myprogram.jl\".**"
   ]
  },
  {
   "cell_type": "code",
   "execution_count": 2,
   "metadata": {},
   "outputs": [],
   "source": [
    "s = readlines(stdin)\n",
    "for i in s\n",
    "    println(i)\n",
    "end"
   ]
  },
  {
   "cell_type": "markdown",
   "metadata": {},
   "source": [
    "**3. Write a program that counts the number of negative numbers in ex1.dat file. Display the result.**"
   ]
  },
  {
   "cell_type": "code",
   "execution_count": 3,
   "metadata": {},
   "outputs": [
    {
     "name": "stdout",
     "output_type": "stream",
     "text": [
      "Negatives: 1278\n"
     ]
    }
   ],
   "source": [
    "open(\"/Users/laurasansc/github/learning_julia/files/ex11.dat\") do file\n",
    "    n_negatives = 0\n",
    "    for line in eachline(file)\n",
    "        line = split(line, \"\\t\")\n",
    "        \n",
    "        for number in line\n",
    "            number = parse(Float64, number)\n",
    "            \n",
    "            if number < 0 \n",
    "                n_negatives += 1\n",
    "            end\n",
    "        end\n",
    "    end\n",
    "    println(\"Negatives: \", n_negatives)\n",
    "end"
   ]
  },
  {
   "cell_type": "markdown",
   "metadata": {},
   "source": [
    "**4. Write a program that converts temperatures from Fahrenheit to Celsius or visa versa given input like \"36F\" of \"15C\" ( F = (C * 9/5) + 32 ).**"
   ]
  },
  {
   "cell_type": "code",
   "execution_count": 4,
   "metadata": {},
   "outputs": [
    {
     "name": "stdout",
     "output_type": "stream",
     "text": [
      " Enter temperature:\n",
      "stdin> 56F\n",
      "The temperature in C is 13.333333333333334\n"
     ]
    }
   ],
   "source": [
    "println(\" Enter temperature:\")\n",
    "temp_in = readline()\n",
    "\n",
    "if occursin(\"F\", temp_in)\n",
    "    F = parse(Int, chop(temp_in))\n",
    "    println(\"The temperature in C is \",(((F-32)* 5) / 9))\n",
    "    \n",
    "elseif occursin(\"C\", temp_in)\n",
    "    C = parse(Int, chop(temp_in))\n",
    "    println(\"The temperature in F is \",( (C * 9/5) + 32) )\n",
    "    \n",
    "else\n",
    "    println(\"The temperature you entered does not use F nor C units\")\n",
    "end"
   ]
  },
  {
   "cell_type": "markdown",
   "metadata": {},
   "source": [
    "**5. Read the file orphans.sp and find all accession numbers (and only the accession numbers), save them in another file of your choosing. Hint: an accession number might look like this AB000114.CDS.1. Consider .CDS.1 as a part of the accession number. Accession numbers differ in length for historical reasons. You can assume that the accession number comes straight after the >, which is first on the line.**"
   ]
  },
  {
   "cell_type": "code",
   "execution_count": 5,
   "metadata": {},
   "outputs": [
    {
     "name": "stdout",
     "output_type": "stream",
     "text": [
      "AB000114.CDS.1\n",
      "AB000221.CDS.1\n",
      "AB000463.CDS.1\n",
      "AB002292.CDS.1\n",
      "AB002293.CDS.1\n",
      "AB002294.CDS.1\n",
      "AB002296.CDS.1\n",
      "AB002297.CDS.1\n",
      "AB002298.CDS.1\n",
      "AB002299.CDS.1\n",
      "AB002301.CDS.1\n",
      "AB002302.CDS.1\n",
      "AB002303.CDS.1\n",
      "AB002304.CDS.1\n",
      "AB002305.CDS.1\n",
      "AB002306.CDS.1\n",
      "AB002307.CDS.1\n",
      "AB002308.CDS.1\n",
      "AB002309.CDS.1\n",
      "AB002310.CDS.1\n",
      "AB002311.CDS.1\n",
      "AB002312.CDS.1\n",
      "BA002313.CDS.1\n",
      "AB002314.CDS.1\n",
      "AB002316.CDS.1\n",
      "AB002317.CDS.1\n",
      "AB002319.CDS.1\n",
      "AB002320.CDS.1\n",
      "AB002321.CDS.1\n",
      "AB002322.CDS.1\n",
      "AB002323.CDS.1\n",
      "AB002324.CDS.1\n",
      "AB002325.CDS.1\n",
      "AB002326.CDS.1\n",
      "AB002327.CDS.1\n",
      "AB002328.CDS.1\n",
      "XD02329.CDS.1\n",
      "AB002330.CDS.1\n",
      "AB002331.CDS.1\n",
      "AB002333.CDS.1\n",
      "AB002335.CDS.1\n",
      "AB002336.CDS.1\n",
      "AB002337.CDS.1\n",
      "AB002338.CDS.1\n",
      "AB002339.CDS.1\n",
      "AB002340.CDS.1\n",
      "AB002342.CDS.1\n",
      "AB002343.CDS.1\n",
      "AB002344.CDS.1\n",
      "AB002345.CDS.1\n",
      "AB002346.CDS.1\n",
      "AB002347.CDS.1\n",
      "AB002348.CDS.1\n",
      "AB002349.CDS.1\n",
      "AB002350.CDS.1\n",
      "AB002351.CDS.1\n",
      "AB002352.CDS.1\n",
      "AB002353.CDS.1\n",
      "AB002354.CDS.1\n",
      "AB002355.CDS.1\n",
      "AB002357.CDS.1\n",
      "AB002359.CDS.1\n",
      "AB002360.CDS.1\n",
      "AB002361.CDS.1\n",
      "AB002362.CDS.1\n",
      "AB002364.CDS.1\n",
      "AB002367.CDS.1\n",
      "AB002368.CDS.1\n",
      "AB002369.CDS.1\n",
      "AB002370.CDS.1\n",
      "AB002371.CDS.1\n",
      "AB002372.CDS.1\n",
      "AB002373.CDS.1\n",
      "AB002374.CDS.1\n",
      "AB002375.CDS.1\n",
      "AB002376.CDS.1\n",
      "AB002377.CDS.1\n",
      "AB002378.CDS.1\n",
      "AB002379.CDS.1\n",
      "AB002381.CDS.1\n",
      "AB002384.CDS.1\n",
      "AB002387.CDS.1\n",
      "AB002388.CDS.1\n",
      "AB002389.CDS.1\n",
      "AB002390.CDS.1\n"
     ]
    }
   ],
   "source": [
    "open(\"/Users/laurasansc/github/learning_julia/files/orphans.sp\") do file\n",
    "    n_negatives = 0\n",
    "    for line in eachline(file)\n",
    "        line = split(line, \" \")\n",
    "        if occursin(\">\", line[1])\n",
    "            ID = chop(line[1], head=1, tail=0)\n",
    "            println(ID)\n",
    "        end\n",
    "    end\n",
    "end"
   ]
  },
  {
   "cell_type": "markdown",
   "metadata": {},
   "source": [
    "*6.Make a new program thats ask for two filenames, one at a time. It should then display the merged lines from both files, i.e. the first line from the first file concatenated (with tab) with the first line from the second file, and so forth. The output should be like that of the UNIX command paste. Try with the files ex1.acc and ex1.dat and compare with the same UNIX paste command, exercise 1.14. It should be the same. Notice that this is a purple exercise; You have make the pseudo code first and hand it in as part of the exercise.*"
   ]
  },
  {
   "cell_type": "code",
   "execution_count": 6,
   "metadata": {},
   "outputs": [
    {
     "name": "stdout",
     "output_type": "stream",
     "text": [
      "Enter your file 1 complete path: \n",
      "stdin> 5\n",
      "Enter your file 2 complete path: \n",
      "stdin> 7\n"
     ]
    },
    {
     "ename": "LoadError",
     "evalue": "SystemError: opening file \"5\": No such file or directory",
     "output_type": "error",
     "traceback": [
      "SystemError: opening file \"5\": No such file or directory",
      "",
      "Stacktrace:",
      " [1] systemerror(::String, ::Int32; extrainfo::Nothing) at ./error.jl:168",
      " [2] #systemerror#48 at ./error.jl:167 [inlined]",
      " [3] systemerror at ./error.jl:167 [inlined]",
      " [4] open(::String; lock::Bool, read::Nothing, write::Nothing, create::Nothing, truncate::Nothing, append::Nothing) at ./iostream.jl:284",
      " [5] open(::String) at ./iostream.jl:273",
      " [6] top-level scope at In[6]:8",
      " [7] include_string(::Function, ::Module, ::String, ::String) at ./loading.jl:1091"
     ]
    }
   ],
   "source": [
    "println(\"Enter your file 1 complete path: \")\n",
    "path_1 = readline() \n",
    "#/Users/laurasansc/github/learning_julia/files/ex11.dat\n",
    "println(\"Enter your file 2 complete path: \")\n",
    "path_2 = readline()\n",
    "#/Users/laurasansc/github/learning_julia/files/ex12.dat\n",
    "\n",
    "f_1 = open(path_1)\n",
    "f_2 = open(path_2)\n",
    "\n",
    "# read first line of each file\n",
    "line_1 = readline(f_1)\n",
    "line_2 = readline(f_2)\n",
    "\n",
    "output = open(\"output.txt\", \"w\")\n",
    "\n",
    "# check if the lines are not empty\n",
    "while line_1 != \"\" || line_2 != \"\"\n",
    "    # write output\n",
    "    write(output, line_1,\"\\t\",line_2,\"\\n\")\n",
    "    line_1 = readline(f_1)\n",
    "    line_2 = readline(f_2)\n",
    "end\n",
    "\n",
    "close(f_1)\n",
    "close(f_2)\n",
    "close(output)"
   ]
  },
  {
   "cell_type": "markdown",
   "metadata": {},
   "source": [
    "**7. This and the following exercise aims to make the reverse complement string (called \"complement strand\") of DNA. There is some human DNA in dna.dat file. Read the file and put all the DNA in one variable. Now complement the DNA and store it in other variable. Display and ensure that it works. HINT: Complementing means changing all A's to T's, T's to A's, C's to G's and G's to C's.**"
   ]
  },
  {
   "cell_type": "code",
   "execution_count": 7,
   "metadata": {},
   "outputs": [
    {
     "name": "stdout",
     "output_type": "stream",
     "text": [
      "CTCTTCTATTCAGCGTTCCTCCCCCGCCCTGGGTGTGGAGTCCTTTCGGCCTCTTAACCCCGTGCGTTCGCCCCCCCGAAACTACTGGGGGGTTTCCCGCTCCGTACGTCCTCCACCTCCTTAATTCACTTTGTCCCTTCCAACAATTTGTCGTGGCACACCCGCTCCGGAATTCCCAGCACCAGGAGCAGACCCGCCCCAGAAACCCGCAGCTGCTCCGGACCAAGACCCATCCGCCCCGATGATGCCCCGCCACGGACGACACCTTTACGGACGGGCGCGCGAAGACGGGTCCGCGTACCCCGTAGCATGAGATCGGAGGTGAGGACGGGACACCCGGAGGTAGGGCACGGGAGCGAGACTCGACGCGGACCTGGACCAAGACGGAAGACCTGTTAGAAAGGCCACCTCCCTCGTTTCAGGACGTGTGACCTCACCACATGATCGCCTAGTTCATACCTGTGACTGAGTCTGACTCCTCGTCGAGGTGACGTGACACATGGCTCCTCTGTTCTCGGTCCGATCGTCCGGGTGTGGTCTGCTCGACCTCCGGCACGCGTTCATGAAGGTCGATCTACAATGGGACCGAGTTGACATAGTGGTGACCCCAAGGCACCTGAGGGTGAAGGTTCTCCACCGAGTCTTTAAGGTTCCACACGCTGACGACGCTGTTCTGGGGTAGCTTACGGAAAAGAGAAAATAGACAAGGAGGTTGTTGTTGTAGCGGGCGTAGTGACCGTACCACCTCGCCGACACGGTCCGAAAACCTGGAGCCGAGTAGGTCGAACTACTACAGTGGATGGTACCGAAGGGGTCGGACGTCCGGGACCGACCCGGTCTCCACCTCCGAGTAGAGTCCTTCGACCCGGACCCGATAGCACGGGCAATGCACTCACGGTCACGGGCTCGGTAGGACCTTCTTGTCCCGCCCGATCGGACCGACGTCGTCGATGCTCTCAGGAGTATACTCCTCCGGGTGTTCCGGGAGACGTAGGACGGACCTCACCCGTGGTTCCACCGACTGACGTAGACGGACTACCGGGATCTGTTCGGGGTCCGACACGGGCACCTACAGGTATACACCGTGTAACGGGTTGCACTGATGTCGACCGTGGGATGGTGCAGGGTCCGCTTCCCTGGCTCGGGGGTCTGGTTGTTCCTTGACCCTTTGAAAAAGGCCTCGGACACCCCTGGAATACGACCGACCCGGGTTCGCCACGACAAGTCACGGCTGGACGCGGTTAGGGCGGTACGAGTCCTCGGTGGTCGTTTCGCGTCTTTCCCAAGGTTTCCCGGCCTTCCGATCTACCCCGTGGGACCTGTTTCTTTAAGGGGTTCGTGGAAGGGGAGGTAAGGGGTGAAGAGAGAGGGGTAGGGGTGGGTCAGAGTACAACCCCTCCCCGGAGGGACACTGATGGAGTTTCCGGTCCGTGGGGGTTTAGTTCGTCAGTCAAACGTGTTGTTCTACCCCACCCCCTATAACTCCCTCTGTCGCGATTCCTACCAAAATAGAAGGGAAATAATGTTCTTCCTTGTTATTTTATCTTTGTAAACATACC\n"
     ]
    }
   ],
   "source": [
    "open(\"/Users/laurasansc/github/learning_julia/files/dna.dat\") do file\n",
    "    sequence = \"\"\n",
    "    for line in eachline(file)\n",
    "        sequence = string(sequence,line)\n",
    "    end\n",
    "    complement = \"\"\n",
    "    for letter in sequence\n",
    "\n",
    "        if string(letter) == \"A\"\n",
    "            complement = string(complement,\"T\")\n",
    "        elseif string(letter) == \"T\"\n",
    "            complement = string(complement,\"A\")\n",
    "        elseif string(letter) == \"C\"\n",
    "            complement = string(complement,\"G\")\n",
    "        elseif string(letter) == \"G\"\n",
    "            complement = string(complement,\"C\")\n",
    "        end\n",
    "    \n",
    "    end\n",
    "   println(complement) \n",
    "end\n"
   ]
  },
  {
   "cell_type": "markdown",
   "metadata": {},
   "source": [
    "**8. Now reverse the DNA after complementing it. Reverse means last letter (base) should be the first, next to last should be the second, and so forth. Display.**"
   ]
  },
  {
   "cell_type": "code",
   "execution_count": 8,
   "metadata": {},
   "outputs": [
    {
     "name": "stdout",
     "output_type": "stream",
     "text": [
      "CCATACAAATGTTTCTATTTTATTGTTCCTTCTTGTAATAAAGGGAAGATAAAACCATCCTTAGCGCTGTCTCCCTCAATATCCCCCACCCCATCTTGTTGTGCAAACTGACTGCTTGATTTGGGGGTGCCTGGCCTTTGAGGTAGTCACAGGGAGGCCCCTCCCCAACATGAGACTGGGTGGGGATGGGGAGAGAGAAGTGGGGAATGGAGGGGAAGGTGCTTGGGGAATTTCTTTGTCCAGGGTGCCCCATCTAGCCTTCCGGCCCTTTGGAACCCTTTCTGCGCTTTGCTGGTGGCTCCTGAGCATGGCGGGATTGGCGCAGGTCGGCACTGAACAGCACCGCTTGGGCCCAGCCAGCATAAGGTCCCCACAGGCTCCGGAAAAAGTTTCCCAGTTCCTTGTTGGTCTGGGGGCTCGGTCCCTTCGCCTGGGACGTGGTAGGGTGCCAGCTGTAGTCACGTTGGGCAATGTGCCACATATGGACATCCACGGGCACAGCCTGGGGCTTGTCTAGGGCCATCAGGCAGATGCAGTCAGCCACCTTGGTGCCCACTCCAGGCAGGATGCAGAGGGCCTTGTGGGCCTCCTCATATGAGGACTCTCGTAGCTGCTGCAGCCAGGCTAGCCCGCCCTGTTCTTCCAGGATGGCTCGGGCACTGGCACTCACGTAACGGGCACGATAGCCCAGGCCCAGCTTCCTGAGATGAGCCTCCACCTCTGGCCCAGCCAGGGCCTGCAGGCTGGGGAAGCCATGGTAGGTGACATCATCAAGCTGGATGAGCCGAGGTCCAAAAGCCTGGCACAGCCGCTCCACCATGCCAGTGATGCGGGCGATGTTGTTGTTGGAGGAACAGATAAAAGAGAAAAGGCATTCGATGGGGTCTTGTCGCAGCAGTCGCACACCTTGGAATTTCTGAGCCACCTCTTGGAAGTGGGAGTCCACGGAACCCCAGTGGTGATACAGTTGAGCCAGGGTAACATCTAGCTGGAAGTACTTGCGCACGGCCTCCAGCTCGTCTGGTGTGGGCCTGCTAGCCTGGCTCTTGTCTCCTCGGTACACAGTGCAGTGGAGCTGCTCCTCAGTCTGAGTCAGTGTCCATACTTGATCCGCTAGTACACCACTCCAGTGTGCAGGACTTTGCTCCCTCCACCGGAAAGATTGTCCAGAAGGCAGAACCAGGTCCAGGCGCAGCTCAGAGCGAGGGCACGGGATGGAGGCCCACAGGGCAGGAGTGGAGGCTAGAGTACGATGCCCCATGCGCCTGGGCAGAAGCGCGCGGGCAGGCATTTCCACAGCAGGCACCGCCCCGTAGTAGCCCCGCCTACCCAGAACCAGGCCTCGTCGACGCCCAAAGACCCCGCCCAGACGAGGACCACGACCCTTAAGGCCTCGCCCACACGGTGCTGTTTAACAACCTTCCCTGTTTCACTTAATTCCTCCACCTCCTGCATGCCTCGCCCTTTGGGGGGTCATCAAAGCCCCCCCGCTTGCGTGCCCCAATTCTCCGGCTTTCCTGAGGTGTGGGTCCCGCCCCCTCCTTGCGACTTATCTTCTC\n"
     ]
    }
   ],
   "source": [
    "open(\"/Users/laurasansc/github/learning_julia/files/dna.dat\") do file\n",
    "    sequence = \"\"\n",
    "    for line in eachline(file)\n",
    "        sequence = string(sequence,line)\n",
    "    end\n",
    "    complement = \"\"\n",
    "    for letter in sequence\n",
    "        if string(letter) == \"A\"\n",
    "            complement = string(complement,\"T\")\n",
    "        elseif string(letter) == \"T\"\n",
    "            complement = string(complement,\"A\")\n",
    "        elseif string(letter) == \"C\"\n",
    "            complement = string(complement,\"G\")\n",
    "        elseif string(letter) == \"G\"\n",
    "            complement = string(complement,\"C\")\n",
    "        end \n",
    "    end\n",
    "    #println(complement) \n",
    "    reverse_sequence = \"\"\n",
    "\n",
    "    for i in reverse(1:1559) # Get reverse DNA\n",
    "        reverse_sequence = string(reverse_sequence,complement[i])\n",
    "    end\n",
    "    println(reverse_sequence)\n",
    "end\n"
   ]
  },
  {
   "cell_type": "markdown",
   "metadata": {},
   "source": [
    "**9. Now write the DNA in the file revdna.dat. Make it look nice, just like dna.dat, i.e. 60 letters per line. This does NOT mean that you should insert newlines in the variable containing your complement strand (contamination of clean data you possibly should use later in the program). It just means that DNA in the output file must have 60 chars per line, just as in the input file.**"
   ]
  },
  {
   "cell_type": "code",
   "execution_count": 9,
   "metadata": {},
   "outputs": [],
   "source": [
    "open(\"/Users/laurasansc/github/learning_julia/files/dna.dat\") do file\n",
    "    sequence = \"\"\n",
    "    for line in eachline(file)\n",
    "        sequence = string(sequence,line)\n",
    "    end\n",
    "    complement = \"\"\n",
    "    for letter in sequence\n",
    "        if string(letter) == \"A\"\n",
    "            complement = string(complement,\"T\")\n",
    "        elseif string(letter) == \"T\"\n",
    "            complement = string(complement,\"A\")\n",
    "        elseif string(letter) == \"C\"\n",
    "            complement = string(complement,\"G\")\n",
    "        elseif string(letter) == \"G\"\n",
    "            complement = string(complement,\"C\")\n",
    "        end \n",
    "    end\n",
    "    #println(complement) \n",
    "    reverse_sequence = \"\"\n",
    "\n",
    "    for i in reverse(1:1559) # Get reverse DNA\n",
    "        reverse_sequence = string(reverse_sequence,complement[i])\n",
    "    end\n",
    "    #println(reverse_sequence)\n",
    "    output = open(\"output_3_9.txt\", \"w\")\n",
    "    counter = 0\n",
    "    for char in reverse_sequence\n",
    "        write(output, char)\n",
    "        counter += 1\n",
    "        if counter == 60\n",
    "            write(output, \"\\n\")\n",
    "            counter = 0\n",
    "        end\n",
    "    end\n",
    "\n",
    "    close(output)\n",
    "end"
   ]
  },
  {
   "cell_type": "markdown",
   "metadata": {},
   "source": [
    "**10. In the file dna.fsa is the same human DNA in FASTA format. This format is VERY often used in bioinformatics. Look at it using less and get used to the format. Observe the first line which starts with a > and identifies the sequence. The name (AB000410 in this case) MUST uniquely identify a sequence in the file. This is a DNA (actually mRNA) sequence taken from the GenBank database. Now make a program that reverse complements the sequence and writes it into the file revdna.fsa just like you did in previous assignments. This time you have to keep the first identifying line, so the sequence can be identified. You must add 'ComplementStrand' in the end of that line, though, so you later know that it is the complement strand.\n",
    "Summary: Keep the first line and reverse complement the sequence.**"
   ]
  },
  {
   "cell_type": "code",
   "execution_count": 7,
   "metadata": {},
   "outputs": [],
   "source": [
    "open(\"/Users/laurasansc/github/learning_julia/files/dna.fsa\") do file\n",
    "    sequence = \"\"\n",
    "    ID = \"\"\n",
    "    for line in eachline(file)\n",
    "        if occursin(\">\", line)\n",
    "            ID = line\n",
    "        else\n",
    "            sequence = string(sequence,line)\n",
    "        end\n",
    "    end\n",
    "    complement = \"\"\n",
    "    for letter in sequence\n",
    "        if string(letter) == \"A\"\n",
    "            complement = string(complement,\"T\")\n",
    "        elseif string(letter) == \"T\"\n",
    "            complement = string(complement,\"A\")\n",
    "        elseif string(letter) == \"C\"\n",
    "            complement = string(complement,\"G\")\n",
    "        elseif string(letter) == \"G\"\n",
    "            complement = string(complement,\"C\")\n",
    "        end \n",
    "    end\n",
    "    #println(complement) \n",
    "    reverse_sequence = \"\"\n",
    "\n",
    "    for i in reverse(1:1559) # Get reverse DNA\n",
    "        reverse_sequence = string(reverse_sequence,complement[i])\n",
    "    end\n",
    "    #println(reverse_sequence)\n",
    "    output = open(\"output_3_10.txt\", \"w\")\n",
    "    counter = 0\n",
    "    write(output, ID, \" ComplementStrand\\n\")\n",
    "    for char in reverse_sequence\n",
    "        write(output, char)\n",
    "        counter += 1\n",
    "        if counter == 60\n",
    "            write(output, \"\\n\")\n",
    "            counter = 0\n",
    "        end\n",
    "    end\n",
    "\n",
    "    close(output)\n",
    "end\n"
   ]
  },
  {
   "cell_type": "markdown",
   "metadata": {},
   "source": [
    "**11. Now you must analyse the AT/GC content of the DNA in the file dna.fsa. You must count all A, T, C and G, and display the result.**"
   ]
  },
  {
   "cell_type": "code",
   "execution_count": 12,
   "metadata": {},
   "outputs": [
    {
     "name": "stdout",
     "output_type": "stream",
     "text": [
      "A: 333\n",
      "T: 303\n",
      "G: 469\n",
      "C: 454\n"
     ]
    }
   ],
   "source": [
    "open(\"/Users/laurasansc/github/learning_julia/files/dna.dat\") do file\n",
    "    sequence = \"\"\n",
    "    for line in eachline(file)\n",
    "        sequence = string(sequence,line)\n",
    "    end\n",
    "    A = 0\n",
    "    T = 0\n",
    "    G = 0\n",
    "    C = 0\n",
    "    \n",
    "    for letter in sequence\n",
    "        if string(letter) == \"A\"\n",
    "            A += 1\n",
    "        elseif string(letter) == \"T\"\n",
    "            T += 1\n",
    "        elseif string(letter) == \"C\"\n",
    "           C += 1\n",
    "        elseif string(letter) == \"G\"\n",
    "           G += 1\n",
    "        end \n",
    "    end\n",
    "    println(\"A: \", A)\n",
    "    println(\"T: \", T)\n",
    "    println(\"G: \", G)\n",
    "    println(\"C: \", C)\n",
    "end"
   ]
  },
  {
   "cell_type": "markdown",
   "metadata": {},
   "source": [
    "**12. Write a program that prints a \"bulls-eye\" to STDOUT using characters like; '.', '+', '*', '#', etc.\n",
    "You have to import the math library, in order to access the squareroot (sqrt), sine (sin), cosine (cos), and so forth functions. The square root of x is gotten like math.sqrt(x). I only used: for, if, elif, print, +, -, /, **, int, sqrt for this 40x40 example.\n",
    "Hint: Think of a grid where one point is the center of the eye.**"
   ]
  },
  {
   "cell_type": "code",
   "execution_count": 6,
   "metadata": {},
   "outputs": [
    {
     "name": "stdout",
     "output_type": "stream",
     "text": [
      "                                                                \n",
      "                    + + + + + + + + + + +                       \n",
      "                + + + + + + + + + + + + + + +                   \n",
      "              + + + + + + + + + + + + + + + + +                 \n",
      "          + + + + + + + + + + + + + + + + + + + + +             \n",
      "        + + + + + + + + + + + + + + + + + + + + + + +           \n",
      "        + + + + + + + . . . . . . . . . + + + + + + +           \n",
      "      + + + + + + + . . . . . . . . . . . + + + + + + +         \n",
      "    + + + + + + . . . . . . . . . . . . . . . + + + + + +       \n",
      "    + + + + + + . . . . . . . . . . . . . . . + + + + + +       \n",
      "  + + + + + + . . . . . . . . . . . . . . . . . + + + + + +     \n",
      "  + + + + + . . . . . . . . # # # . . . . . . . . + + + + +     \n",
      "  + + + + + . . . . . . # # # # # # # . . . . . . + + + + +     \n",
      "  + + + + + . . . . . . # # # # # # # . . . . . . + + + + +     \n",
      "  + + + + + . . . . . # # # # # # # # # . . . . . + + + + +     \n",
      "  + + + + + . . . . . # # # # # # # # # . . . . . + + + + +     \n",
      "  + + + + + . . . . . # # # # # # # # # . . . . . + + + + +     \n",
      "  + + + + + . . . . . . # # # # # # # . . . . . . + + + + +     \n",
      "  + + + + + . . . . . . # # # # # # # . . . . . . + + + + +     \n",
      "  + + + + + . . . . . . . . # # # . . . . . . . . + + + + +     \n",
      "  + + + + + + . . . . . . . . . . . . . . . . . + + + + + +     \n",
      "    + + + + + + . . . . . . . . . . . . . . . + + + + + +       \n",
      "    + + + + + + . . . . . . . . . . . . . . . + + + + + +       \n",
      "      + + + + + + + . . . . . . . . . . . + + + + + + +         \n",
      "        + + + + + + + . . . . . . . . . + + + + + + +           \n",
      "        + + + + + + + + + + + + + + + + + + + + + + +           \n",
      "          + + + + + + + + + + + + + + + + + + + + +             \n",
      "              + + + + + + + + + + + + + + + + +                 \n",
      "                + + + + + + + + + + + + + + +                   \n",
      "                    + + + + + + + + + + +                       \n",
      "                                                                \n"
     ]
    }
   ],
   "source": [
    "# set the size of the circle (diameter)\n",
    "size = 30\n",
    "# horizontal movement\n",
    "for x in (-size/2):(size/2)\n",
    "# vertical movement\n",
    "    for y in (-size/2):(size/2)\n",
    "        distance_to_centre = sqrt(x^2+y^2)\n",
    "        # now print the different parts of the bullseye\n",
    "        if distance_to_centre >= size/2\n",
    "            print(\"  \")\n",
    "        elseif distance_to_centre >= size/3 && distance_to_centre < size/2\n",
    "            print(\"+ \")\n",
    "        elseif distance_to_centre >= size/7 && distance_to_centre < size/3\n",
    "            print(\". \")\n",
    "        else\n",
    "            print(\"# \")\n",
    "        end\n",
    "    end\n",
    "\tprintln(\"  \")\n",
    "end"
   ]
  }
 ],
 "metadata": {
  "kernelspec": {
   "display_name": "Julia 1.5.0",
   "language": "julia",
   "name": "julia-1.5"
  },
  "language_info": {
   "file_extension": ".jl",
   "mimetype": "application/julia",
   "name": "julia",
   "version": "1.5.0"
  }
 },
 "nbformat": 4,
 "nbformat_minor": 4
}
